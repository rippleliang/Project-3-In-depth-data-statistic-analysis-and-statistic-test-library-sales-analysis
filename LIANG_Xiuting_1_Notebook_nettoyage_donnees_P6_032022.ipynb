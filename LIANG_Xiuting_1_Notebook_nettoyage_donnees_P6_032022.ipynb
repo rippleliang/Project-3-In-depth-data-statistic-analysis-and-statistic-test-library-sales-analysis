{
 "cells": [
  {
   "cell_type": "markdown",
   "id": "02323d82",
   "metadata": {
    "toc": true
   },
   "source": [
    "<h1>Table of Contents<span class=\"tocSkip\"></span></h1>\n",
    "<div class=\"toc\"><ul class=\"toc-item\"><li><span><a href=\"#Préparer-les-données\" data-toc-modified-id=\"Préparer-les-données-1\"><span class=\"toc-item-num\">1&nbsp;&nbsp;</span>Préparer les données</a></span><ul class=\"toc-item\"><li><span><a href=\"#products.csv\" data-toc-modified-id=\"products.csv-1.1\"><span class=\"toc-item-num\">1.1&nbsp;&nbsp;</span>products.csv</a></span><ul class=\"toc-item\"><li><span><a href=\"#Traiter-le-prix-inférieur-à-0;-(T_0)\" data-toc-modified-id=\"Traiter-le-prix-inférieur-à-0;-(T_0)-1.1.1\"><span class=\"toc-item-num\">1.1.1&nbsp;&nbsp;</span>Traiter le prix inférieur à 0; (T_0)</a></span></li></ul></li><li><span><a href=\"#transactions.csv\" data-toc-modified-id=\"transactions.csv-1.2\"><span class=\"toc-item-num\">1.2&nbsp;&nbsp;</span>transactions.csv</a></span><ul class=\"toc-item\"><li><span><a href=\"#traiter-les-transactions-pour-le-test-avec-les-temps-de-transactions-presque-pareils-(T_0)\" data-toc-modified-id=\"traiter-les-transactions-pour-le-test-avec-les-temps-de-transactions-presque-pareils-(T_0)-1.2.1\"><span class=\"toc-item-num\">1.2.1&nbsp;&nbsp;</span>traiter les transactions pour le test avec les temps de transactions presque pareils (T_0)</a></span></li><li><span><a href=\"#l'unicité\" data-toc-modified-id=\"l'unicité-1.2.2\"><span class=\"toc-item-num\">1.2.2&nbsp;&nbsp;</span>l'unicité</a></span></li></ul></li><li><span><a href=\"#customers.csv\" data-toc-modified-id=\"customers.csv-1.3\"><span class=\"toc-item-num\">1.3&nbsp;&nbsp;</span>customers.csv</a></span><ul class=\"toc-item\"><li><span><a href=\"#ajouter-la-colonne-'age'\" data-toc-modified-id=\"ajouter-la-colonne-'age'-1.3.1\"><span class=\"toc-item-num\">1.3.1&nbsp;&nbsp;</span>ajouter la colonne 'age'</a></span></li></ul></li><li><span><a href=\"#La-jointure-de-'df_product',-'df_trans',-'df_cus'\" data-toc-modified-id=\"La-jointure-de-'df_product',-'df_trans',-'df_cus'-1.4\"><span class=\"toc-item-num\">1.4&nbsp;&nbsp;</span>La jointure de 'df_product', 'df_trans', 'df_cus'</a></span></li><li><span><a href=\"#traiter-les-valeurs-manquantes-(id_prod:-0_2245)\" data-toc-modified-id=\"traiter-les-valeurs-manquantes-(id_prod:-0_2245)-1.5\"><span class=\"toc-item-num\">1.5&nbsp;&nbsp;</span>traiter les valeurs manquantes (id_prod: 0_2245)</a></span><ul class=\"toc-item\"><li><span><a href=\"#ajouter-le-catégorie-pour-le-produit-'0_2245'\" data-toc-modified-id=\"ajouter-le-catégorie-pour-le-produit-'0_2245'-1.5.1\"><span class=\"toc-item-num\">1.5.1&nbsp;&nbsp;</span>ajouter le catégorie pour le produit '0_2245'</a></span></li><li><span><a href=\"#imputer-les-prix-pour-le-produit-'0_2245'\" data-toc-modified-id=\"imputer-les-prix-pour-le-produit-'0_2245'-1.5.2\"><span class=\"toc-item-num\">1.5.2&nbsp;&nbsp;</span>imputer les prix pour le produit '0_2245'</a></span></li></ul></li><li><span><a href=\"#calculer-le-chiffre-d'affaire-(CA)-de-chaque-transaction\" data-toc-modified-id=\"calculer-le-chiffre-d'affaire-(CA)-de-chaque-transaction-1.6\"><span class=\"toc-item-num\">1.6&nbsp;&nbsp;</span>calculer le chiffre d'affaire (CA) de chaque transaction</a></span></li></ul></li><li><span><a href=\"#l'exportation-de-données\" data-toc-modified-id=\"l'exportation-de-données-2\"><span class=\"toc-item-num\">2&nbsp;&nbsp;</span>l'exportation de données</a></span></li></ul></div>"
   ]
  },
  {
   "cell_type": "code",
   "execution_count": 1,
   "id": "c5a91a2f-d8b7-4437-95e5-8ec3116f063e",
   "metadata": {},
   "outputs": [],
   "source": [
    "import pandas as pd\n",
    "import seaborn as sns\n",
    "import matplotlib.pyplot as plt\n",
    "%matplotlib inline\n",
    "import numpy as np"
   ]
  },
  {
   "cell_type": "markdown",
   "id": "dc9cda0d-3679-412d-aba9-fb79e75ea91c",
   "metadata": {},
   "source": [
    "# Préparer les données"
   ]
  },
  {
   "cell_type": "markdown",
   "id": "2f805949-e4d5-4069-9026-75b060e78305",
   "metadata": {
    "tags": []
   },
   "source": [
    "## products.csv"
   ]
  },
  {
   "cell_type": "markdown",
   "id": "ad5f80ef-303b-4f35-9544-31ea89b312f9",
   "metadata": {},
   "source": [
    "L'importation de données"
   ]
  },
  {
   "cell_type": "code",
   "execution_count": 2,
   "id": "8135bc32-56b3-4648-ae88-606067f5ff81",
   "metadata": {
    "tags": []
   },
   "outputs": [
    {
     "data": {
      "text/html": [
       "<div>\n",
       "<style scoped>\n",
       "    .dataframe tbody tr th:only-of-type {\n",
       "        vertical-align: middle;\n",
       "    }\n",
       "\n",
       "    .dataframe tbody tr th {\n",
       "        vertical-align: top;\n",
       "    }\n",
       "\n",
       "    .dataframe thead th {\n",
       "        text-align: right;\n",
       "    }\n",
       "</style>\n",
       "<table border=\"1\" class=\"dataframe\">\n",
       "  <thead>\n",
       "    <tr style=\"text-align: right;\">\n",
       "      <th></th>\n",
       "      <th>id_prod</th>\n",
       "      <th>price</th>\n",
       "      <th>categ</th>\n",
       "    </tr>\n",
       "  </thead>\n",
       "  <tbody>\n",
       "    <tr>\n",
       "      <th>0</th>\n",
       "      <td>0_1421</td>\n",
       "      <td>19.99</td>\n",
       "      <td>0</td>\n",
       "    </tr>\n",
       "    <tr>\n",
       "      <th>1</th>\n",
       "      <td>0_1368</td>\n",
       "      <td>5.13</td>\n",
       "      <td>0</td>\n",
       "    </tr>\n",
       "    <tr>\n",
       "      <th>2</th>\n",
       "      <td>0_731</td>\n",
       "      <td>17.99</td>\n",
       "      <td>0</td>\n",
       "    </tr>\n",
       "    <tr>\n",
       "      <th>3</th>\n",
       "      <td>1_587</td>\n",
       "      <td>4.99</td>\n",
       "      <td>1</td>\n",
       "    </tr>\n",
       "    <tr>\n",
       "      <th>4</th>\n",
       "      <td>0_1507</td>\n",
       "      <td>3.99</td>\n",
       "      <td>0</td>\n",
       "    </tr>\n",
       "  </tbody>\n",
       "</table>\n",
       "</div>"
      ],
      "text/plain": [
       "  id_prod  price  categ\n",
       "0  0_1421  19.99      0\n",
       "1  0_1368   5.13      0\n",
       "2   0_731  17.99      0\n",
       "3   1_587   4.99      1\n",
       "4  0_1507   3.99      0"
      ]
     },
     "execution_count": 2,
     "metadata": {},
     "output_type": "execute_result"
    }
   ],
   "source": [
    "df_product = pd.read_csv('products.csv')\n",
    "df_product.head()"
   ]
  },
  {
   "cell_type": "code",
   "execution_count": 3,
   "id": "428c6173-e359-48f0-99fe-159434287d54",
   "metadata": {},
   "outputs": [
    {
     "name": "stdout",
     "output_type": "stream",
     "text": [
      "<class 'pandas.core.frame.DataFrame'>\n",
      "RangeIndex: 3287 entries, 0 to 3286\n",
      "Data columns (total 3 columns):\n",
      " #   Column   Non-Null Count  Dtype  \n",
      "---  ------   --------------  -----  \n",
      " 0   id_prod  3287 non-null   object \n",
      " 1   price    3287 non-null   float64\n",
      " 2   categ    3287 non-null   int64  \n",
      "dtypes: float64(1), int64(1), object(1)\n",
      "memory usage: 77.2+ KB\n"
     ]
    }
   ],
   "source": [
    "df_product.info()"
   ]
  },
  {
   "cell_type": "markdown",
   "id": "e510d3c0-ad06-4499-8a48-cd66851f4d75",
   "metadata": {},
   "source": [
    "<font color = Indigo> ***Il n'y a pas de valeur manquante.** </font>"
   ]
  },
  {
   "cell_type": "code",
   "execution_count": 4,
   "id": "98c8b479-b97e-4a9c-8b0f-180492c0bd8c",
   "metadata": {},
   "outputs": [
    {
     "data": {
      "text/plain": [
       "False"
      ]
     },
     "execution_count": 4,
     "metadata": {},
     "output_type": "execute_result"
    }
   ],
   "source": [
    "# verifier s'il y a valeur doublon pour 'id_prod'\n",
    "any(df_product['id_prod'].duplicated())"
   ]
  },
  {
   "cell_type": "markdown",
   "id": "fdba3bdf-4c10-4127-9f9a-20c5d659c9d5",
   "metadata": {},
   "source": [
    "<font color = Indigo> ***Il n'y a pas de valeur doublon.** </font>"
   ]
  },
  {
   "cell_type": "code",
   "execution_count": 5,
   "id": "bd93b90e-5dbc-4a46-8e7d-67e0e0cb6255",
   "metadata": {},
   "outputs": [
    {
     "data": {
      "text/html": [
       "<div>\n",
       "<style scoped>\n",
       "    .dataframe tbody tr th:only-of-type {\n",
       "        vertical-align: middle;\n",
       "    }\n",
       "\n",
       "    .dataframe tbody tr th {\n",
       "        vertical-align: top;\n",
       "    }\n",
       "\n",
       "    .dataframe thead th {\n",
       "        text-align: right;\n",
       "    }\n",
       "</style>\n",
       "<table border=\"1\" class=\"dataframe\">\n",
       "  <thead>\n",
       "    <tr style=\"text-align: right;\">\n",
       "      <th></th>\n",
       "      <th>price</th>\n",
       "      <th>categ</th>\n",
       "    </tr>\n",
       "  </thead>\n",
       "  <tbody>\n",
       "    <tr>\n",
       "      <th>count</th>\n",
       "      <td>3287.000000</td>\n",
       "      <td>3287.000000</td>\n",
       "    </tr>\n",
       "    <tr>\n",
       "      <th>mean</th>\n",
       "      <td>21.856641</td>\n",
       "      <td>0.370246</td>\n",
       "    </tr>\n",
       "    <tr>\n",
       "      <th>std</th>\n",
       "      <td>29.847908</td>\n",
       "      <td>0.615387</td>\n",
       "    </tr>\n",
       "    <tr>\n",
       "      <th>min</th>\n",
       "      <td>-1.000000</td>\n",
       "      <td>0.000000</td>\n",
       "    </tr>\n",
       "    <tr>\n",
       "      <th>25%</th>\n",
       "      <td>6.990000</td>\n",
       "      <td>0.000000</td>\n",
       "    </tr>\n",
       "    <tr>\n",
       "      <th>50%</th>\n",
       "      <td>13.060000</td>\n",
       "      <td>0.000000</td>\n",
       "    </tr>\n",
       "    <tr>\n",
       "      <th>75%</th>\n",
       "      <td>22.990000</td>\n",
       "      <td>1.000000</td>\n",
       "    </tr>\n",
       "    <tr>\n",
       "      <th>max</th>\n",
       "      <td>300.000000</td>\n",
       "      <td>2.000000</td>\n",
       "    </tr>\n",
       "  </tbody>\n",
       "</table>\n",
       "</div>"
      ],
      "text/plain": [
       "             price        categ\n",
       "count  3287.000000  3287.000000\n",
       "mean     21.856641     0.370246\n",
       "std      29.847908     0.615387\n",
       "min      -1.000000     0.000000\n",
       "25%       6.990000     0.000000\n",
       "50%      13.060000     0.000000\n",
       "75%      22.990000     1.000000\n",
       "max     300.000000     2.000000"
      ]
     },
     "execution_count": 5,
     "metadata": {},
     "output_type": "execute_result"
    }
   ],
   "source": [
    "df_product.describe()"
   ]
  },
  {
   "cell_type": "markdown",
   "id": "3c49a05b-939d-4ed6-8fb0-b44d9f43fbaa",
   "metadata": {},
   "source": [
    "<font color = Indigo> ***le prix moyenne de tous les livres est 21.86 euro. Il y a de prix inférieur à 0** </font>"
   ]
  },
  {
   "cell_type": "markdown",
   "id": "66de0b3f-5af4-45bc-a4e5-3d0d7ad535ac",
   "metadata": {},
   "source": [
    "<font color = Indigo> **les prix moyennes de chaque catégorie:** </font>"
   ]
  },
  {
   "cell_type": "code",
   "execution_count": 6,
   "id": "54190bf5-c57a-4755-a5e4-4f5d9c44b959",
   "metadata": {},
   "outputs": [
    {
     "data": {
      "text/html": [
       "<div>\n",
       "<style scoped>\n",
       "    .dataframe tbody tr th:only-of-type {\n",
       "        vertical-align: middle;\n",
       "    }\n",
       "\n",
       "    .dataframe tbody tr th {\n",
       "        vertical-align: top;\n",
       "    }\n",
       "\n",
       "    .dataframe thead th {\n",
       "        text-align: right;\n",
       "    }\n",
       "</style>\n",
       "<table border=\"1\" class=\"dataframe\">\n",
       "  <thead>\n",
       "    <tr style=\"text-align: right;\">\n",
       "      <th></th>\n",
       "      <th>price</th>\n",
       "    </tr>\n",
       "    <tr>\n",
       "      <th>categ</th>\n",
       "      <th></th>\n",
       "    </tr>\n",
       "  </thead>\n",
       "  <tbody>\n",
       "    <tr>\n",
       "      <th>0</th>\n",
       "      <td>11.727280</td>\n",
       "    </tr>\n",
       "    <tr>\n",
       "      <th>1</th>\n",
       "      <td>25.531421</td>\n",
       "    </tr>\n",
       "    <tr>\n",
       "      <th>2</th>\n",
       "      <td>108.354686</td>\n",
       "    </tr>\n",
       "  </tbody>\n",
       "</table>\n",
       "</div>"
      ],
      "text/plain": [
       "            price\n",
       "categ            \n",
       "0       11.727280\n",
       "1       25.531421\n",
       "2      108.354686"
      ]
     },
     "execution_count": 6,
     "metadata": {},
     "output_type": "execute_result"
    }
   ],
   "source": [
    "# calculer les prix moyennes de chaque catégorie\n",
    "df_cmean = df_product.groupby(by = 'categ').mean()[['price']]\n",
    "df_cmean"
   ]
  },
  {
   "cell_type": "code",
   "execution_count": 7,
   "id": "1c797862-bec1-45c3-a415-fccc46b1299c",
   "metadata": {},
   "outputs": [
    {
     "data": {
      "text/plain": [
       "<AxesSubplot:xlabel='categ', ylabel='price'>"
      ]
     },
     "execution_count": 7,
     "metadata": {},
     "output_type": "execute_result"
    },
    {
     "data": {
      "image/png": "[encoded data removed]",
      "text/plain": [
       "<Figure size 432x288 with 1 Axes>"
      ]
     },
     "metadata": {
      "needs_background": "light"
     },
     "output_type": "display_data"
    }
   ],
   "source": [
    "# ultiliser le graphique boîte et moustache pour présentater la dispersion de donées\n",
    "%matplotlib inline\n",
    "sns.boxplot( x = df_product['categ'], y = df_product['price'])"
   ]
  },
  {
   "cell_type": "markdown",
   "id": "7ac819c0-f001-4bab-b31f-394a6c52a85e",
   "metadata": {},
   "source": [
    "<font color = Indigo> ***Il y a des outliers mais on les garder en ce moment pour eviter l'impact de notre analyse de chiffre d'affaire suivants. Les outliers peuvent correspondre aux livres qui coûtent chers.** </font>"
   ]
  },
  {
   "cell_type": "markdown",
   "id": "89164f7a-ff20-4875-81ea-7ba34b32a831",
   "metadata": {},
   "source": [
    "### Traiter le prix inférieur à 0; (T_0)"
   ]
  },
  {
   "cell_type": "markdown",
   "id": "f74c9ab7-2663-460a-9963-370737fa1bcd",
   "metadata": {},
   "source": [
    "<font color = Indigo> En fonction des analyses suivants (dans la partie 1.2.1. traiter les dates), le prix < 0 euro correspond au produit 'T_0', qui est le produit géneré pour le test de système par les developpeurs. Pour notre analyse, il faut l'exclure. </font>"
   ]
  },
  {
   "cell_type": "code",
   "execution_count": 8,
   "id": "10c0483d-16bc-46a2-a95e-09c22e736a99",
   "metadata": {},
   "outputs": [
    {
     "data": {
      "text/html": [
       "<div>\n",
       "<style scoped>\n",
       "    .dataframe tbody tr th:only-of-type {\n",
       "        vertical-align: middle;\n",
       "    }\n",
       "\n",
       "    .dataframe tbody tr th {\n",
       "        vertical-align: top;\n",
       "    }\n",
       "\n",
       "    .dataframe thead th {\n",
       "        text-align: right;\n",
       "    }\n",
       "</style>\n",
       "<table border=\"1\" class=\"dataframe\">\n",
       "  <thead>\n",
       "    <tr style=\"text-align: right;\">\n",
       "      <th></th>\n",
       "      <th>id_prod</th>\n",
       "      <th>price</th>\n",
       "      <th>categ</th>\n",
       "    </tr>\n",
       "  </thead>\n",
       "  <tbody>\n",
       "    <tr>\n",
       "      <th>731</th>\n",
       "      <td>T_0</td>\n",
       "      <td>-1.0</td>\n",
       "      <td>0</td>\n",
       "    </tr>\n",
       "  </tbody>\n",
       "</table>\n",
       "</div>"
      ],
      "text/plain": [
       "    id_prod  price  categ\n",
       "731     T_0   -1.0      0"
      ]
     },
     "execution_count": 8,
     "metadata": {},
     "output_type": "execute_result"
    }
   ],
   "source": [
    "# verifier le prix qui est inférieur à 0 euro\n",
    "df_product.loc[df_product['price'] < 0, :]"
   ]
  },
  {
   "cell_type": "code",
   "execution_count": 9,
   "id": "043b10c1-bfd4-4f2d-8467-b931a5526854",
   "metadata": {},
   "outputs": [
    {
     "data": {
      "text/plain": [
       "count    3286.000000\n",
       "mean       21.863597\n",
       "std        29.849786\n",
       "min         0.620000\n",
       "25%         6.990000\n",
       "50%        13.075000\n",
       "75%        22.990000\n",
       "max       300.000000\n",
       "Name: price, dtype: float64"
      ]
     },
     "execution_count": 9,
     "metadata": {},
     "output_type": "execute_result"
    }
   ],
   "source": [
    "# Exclure le produit avec le prix < 0 euro\n",
    "df_product = df_product.loc[df_product['price'] >= 0, :]\n",
    "df_product['price'].describe()"
   ]
  },
  {
   "cell_type": "markdown",
   "id": "b8bf3ebc-24f4-4251-9ce8-a00fea34c4cb",
   "metadata": {},
   "source": [
    "## transactions.csv"
   ]
  },
  {
   "cell_type": "markdown",
   "id": "a5590357-3068-4014-ac66-ea6e170470cc",
   "metadata": {},
   "source": [
    "L'importation de données"
   ]
  },
  {
   "cell_type": "code",
   "execution_count": 10,
   "id": "c3ad33ed-d132-4344-9a88-571a00e3219a",
   "metadata": {},
   "outputs": [
    {
     "data": {
      "text/html": [
       "<div>\n",
       "<style scoped>\n",
       "    .dataframe tbody tr th:only-of-type {\n",
       "        vertical-align: middle;\n",
       "    }\n",
       "\n",
       "    .dataframe tbody tr th {\n",
       "        vertical-align: top;\n",
       "    }\n",
       "\n",
       "    .dataframe thead th {\n",
       "        text-align: right;\n",
       "    }\n",
       "</style>\n",
       "<table border=\"1\" class=\"dataframe\">\n",
       "  <thead>\n",
       "    <tr style=\"text-align: right;\">\n",
       "      <th></th>\n",
       "      <th>id_prod</th>\n",
       "      <th>date</th>\n",
       "      <th>session_id</th>\n",
       "      <th>client_id</th>\n",
       "    </tr>\n",
       "  </thead>\n",
       "  <tbody>\n",
       "    <tr>\n",
       "      <th>0</th>\n",
       "      <td>0_1518</td>\n",
       "      <td>2022-05-20 13:21:29.043970</td>\n",
       "      <td>s_211425</td>\n",
       "      <td>c_103</td>\n",
       "    </tr>\n",
       "    <tr>\n",
       "      <th>1</th>\n",
       "      <td>1_251</td>\n",
       "      <td>2022-02-02 07:55:19.149409</td>\n",
       "      <td>s_158752</td>\n",
       "      <td>c_8534</td>\n",
       "    </tr>\n",
       "    <tr>\n",
       "      <th>2</th>\n",
       "      <td>0_1277</td>\n",
       "      <td>2022-06-18 15:44:33.155329</td>\n",
       "      <td>s_225667</td>\n",
       "      <td>c_6714</td>\n",
       "    </tr>\n",
       "    <tr>\n",
       "      <th>3</th>\n",
       "      <td>2_209</td>\n",
       "      <td>2021-06-24 04:19:29.835891</td>\n",
       "      <td>s_52962</td>\n",
       "      <td>c_6941</td>\n",
       "    </tr>\n",
       "    <tr>\n",
       "      <th>4</th>\n",
       "      <td>0_1509</td>\n",
       "      <td>2023-01-11 08:22:08.194479</td>\n",
       "      <td>s_325227</td>\n",
       "      <td>c_4232</td>\n",
       "    </tr>\n",
       "  </tbody>\n",
       "</table>\n",
       "</div>"
      ],
      "text/plain": [
       "  id_prod                        date session_id client_id\n",
       "0  0_1518  2022-05-20 13:21:29.043970   s_211425     c_103\n",
       "1   1_251  2022-02-02 07:55:19.149409   s_158752    c_8534\n",
       "2  0_1277  2022-06-18 15:44:33.155329   s_225667    c_6714\n",
       "3   2_209  2021-06-24 04:19:29.835891    s_52962    c_6941\n",
       "4  0_1509  2023-01-11 08:22:08.194479   s_325227    c_4232"
      ]
     },
     "execution_count": 10,
     "metadata": {},
     "output_type": "execute_result"
    }
   ],
   "source": [
    "df_trans = pd.read_csv ('transactions.csv')\n",
    "df_trans.head()"
   ]
  },
  {
   "cell_type": "code",
   "execution_count": 11,
   "id": "02525db9-d5d2-4aa6-902d-4a886eca6041",
   "metadata": {},
   "outputs": [
    {
     "name": "stdout",
     "output_type": "stream",
     "text": [
      "<class 'pandas.core.frame.DataFrame'>\n",
      "RangeIndex: 679532 entries, 0 to 679531\n",
      "Data columns (total 4 columns):\n",
      " #   Column      Non-Null Count   Dtype \n",
      "---  ------      --------------   ----- \n",
      " 0   id_prod     679532 non-null  object\n",
      " 1   date        679532 non-null  object\n",
      " 2   session_id  679532 non-null  object\n",
      " 3   client_id   679532 non-null  object\n",
      "dtypes: object(4)\n",
      "memory usage: 20.7+ MB\n"
     ]
    }
   ],
   "source": [
    "df_trans.info()"
   ]
  },
  {
   "cell_type": "markdown",
   "id": "37bf28dd-cc86-4658-aae1-e91efb9f72f9",
   "metadata": {},
   "source": [
    "<font color = Indigo> ***Il n'y a pas de valeur manquante, mais le format de 'date' n'est pas correct.** </font>"
   ]
  },
  {
   "cell_type": "markdown",
   "id": "385b961a-4f33-4faa-a1df-417fcc12e861",
   "metadata": {},
   "source": [
    "### traiter les transactions pour le test avec les temps de transactions presque pareils (T_0)"
   ]
  },
  {
   "cell_type": "code",
   "execution_count": 12,
   "id": "fbdc76d5-88be-4b73-b0c1-bfd57fc5a743",
   "metadata": {},
   "outputs": [
    {
     "data": {
      "text/html": [
       "<div>\n",
       "<style scoped>\n",
       "    .dataframe tbody tr th:only-of-type {\n",
       "        vertical-align: middle;\n",
       "    }\n",
       "\n",
       "    .dataframe tbody tr th {\n",
       "        vertical-align: top;\n",
       "    }\n",
       "\n",
       "    .dataframe thead th {\n",
       "        text-align: right;\n",
       "    }\n",
       "</style>\n",
       "<table border=\"1\" class=\"dataframe\">\n",
       "  <thead>\n",
       "    <tr style=\"text-align: right;\">\n",
       "      <th></th>\n",
       "      <th>id_prod</th>\n",
       "      <th>date</th>\n",
       "      <th>session_id</th>\n",
       "      <th>client_id</th>\n",
       "    </tr>\n",
       "  </thead>\n",
       "  <tbody>\n",
       "    <tr>\n",
       "      <th>count</th>\n",
       "      <td>679532</td>\n",
       "      <td>679532</td>\n",
       "      <td>679532</td>\n",
       "      <td>679532</td>\n",
       "    </tr>\n",
       "    <tr>\n",
       "      <th>unique</th>\n",
       "      <td>3267</td>\n",
       "      <td>679371</td>\n",
       "      <td>342316</td>\n",
       "      <td>8602</td>\n",
       "    </tr>\n",
       "    <tr>\n",
       "      <th>top</th>\n",
       "      <td>1_369</td>\n",
       "      <td>test_2021-03-01 02:30:02.237413</td>\n",
       "      <td>s_0</td>\n",
       "      <td>c_1609</td>\n",
       "    </tr>\n",
       "    <tr>\n",
       "      <th>freq</th>\n",
       "      <td>2252</td>\n",
       "      <td>13</td>\n",
       "      <td>200</td>\n",
       "      <td>25488</td>\n",
       "    </tr>\n",
       "  </tbody>\n",
       "</table>\n",
       "</div>"
      ],
      "text/plain": [
       "       id_prod                             date session_id client_id\n",
       "count   679532                           679532     679532    679532\n",
       "unique    3267                           679371     342316      8602\n",
       "top      1_369  test_2021-03-01 02:30:02.237413        s_0    c_1609\n",
       "freq      2252                               13        200     25488"
      ]
     },
     "execution_count": 12,
     "metadata": {},
     "output_type": "execute_result"
    }
   ],
   "source": [
    "df_trans.describe()"
   ]
  },
  {
   "cell_type": "markdown",
   "id": "fa42b766-e6f1-40d2-a9e8-e00f1fc4f027",
   "metadata": {},
   "source": [
    "<font color = Indigo> ***Il y a des dates anormaux** </font>"
   ]
  },
  {
   "cell_type": "code",
   "execution_count": 13,
   "id": "8c4f0f15-ea86-4ab6-a143-07cb2e7de12b",
   "metadata": {},
   "outputs": [
    {
     "name": "stdout",
     "output_type": "stream",
     "text": [
      "id_prod               object\n",
      "date                  object\n",
      "session_id            object\n",
      "client_id             object\n",
      "date_test     datetime64[ns]\n",
      "dtype: object\n"
     ]
    },
    {
     "data": {
      "text/html": [
       "<div>\n",
       "<style scoped>\n",
       "    .dataframe tbody tr th:only-of-type {\n",
       "        vertical-align: middle;\n",
       "    }\n",
       "\n",
       "    .dataframe tbody tr th {\n",
       "        vertical-align: top;\n",
       "    }\n",
       "\n",
       "    .dataframe thead th {\n",
       "        text-align: right;\n",
       "    }\n",
       "</style>\n",
       "<table border=\"1\" class=\"dataframe\">\n",
       "  <thead>\n",
       "    <tr style=\"text-align: right;\">\n",
       "      <th></th>\n",
       "      <th>id_prod</th>\n",
       "      <th>date</th>\n",
       "      <th>session_id</th>\n",
       "      <th>client_id</th>\n",
       "      <th>date_test</th>\n",
       "    </tr>\n",
       "  </thead>\n",
       "  <tbody>\n",
       "    <tr>\n",
       "      <th>3019</th>\n",
       "      <td>T_0</td>\n",
       "      <td>test_2021-03-01 02:30:02.237419</td>\n",
       "      <td>s_0</td>\n",
       "      <td>ct_0</td>\n",
       "      <td>NaT</td>\n",
       "    </tr>\n",
       "    <tr>\n",
       "      <th>5138</th>\n",
       "      <td>T_0</td>\n",
       "      <td>test_2021-03-01 02:30:02.237425</td>\n",
       "      <td>s_0</td>\n",
       "      <td>ct_0</td>\n",
       "      <td>NaT</td>\n",
       "    </tr>\n",
       "    <tr>\n",
       "      <th>9668</th>\n",
       "      <td>T_0</td>\n",
       "      <td>test_2021-03-01 02:30:02.237437</td>\n",
       "      <td>s_0</td>\n",
       "      <td>ct_1</td>\n",
       "      <td>NaT</td>\n",
       "    </tr>\n",
       "    <tr>\n",
       "      <th>10728</th>\n",
       "      <td>T_0</td>\n",
       "      <td>test_2021-03-01 02:30:02.237436</td>\n",
       "      <td>s_0</td>\n",
       "      <td>ct_0</td>\n",
       "      <td>NaT</td>\n",
       "    </tr>\n",
       "    <tr>\n",
       "      <th>15292</th>\n",
       "      <td>T_0</td>\n",
       "      <td>test_2021-03-01 02:30:02.237430</td>\n",
       "      <td>s_0</td>\n",
       "      <td>ct_0</td>\n",
       "      <td>NaT</td>\n",
       "    </tr>\n",
       "    <tr>\n",
       "      <th>...</th>\n",
       "      <td>...</td>\n",
       "      <td>...</td>\n",
       "      <td>...</td>\n",
       "      <td>...</td>\n",
       "      <td>...</td>\n",
       "    </tr>\n",
       "    <tr>\n",
       "      <th>657830</th>\n",
       "      <td>T_0</td>\n",
       "      <td>test_2021-03-01 02:30:02.237417</td>\n",
       "      <td>s_0</td>\n",
       "      <td>ct_0</td>\n",
       "      <td>NaT</td>\n",
       "    </tr>\n",
       "    <tr>\n",
       "      <th>662081</th>\n",
       "      <td>T_0</td>\n",
       "      <td>test_2021-03-01 02:30:02.237427</td>\n",
       "      <td>s_0</td>\n",
       "      <td>ct_1</td>\n",
       "      <td>NaT</td>\n",
       "    </tr>\n",
       "    <tr>\n",
       "      <th>670680</th>\n",
       "      <td>T_0</td>\n",
       "      <td>test_2021-03-01 02:30:02.237449</td>\n",
       "      <td>s_0</td>\n",
       "      <td>ct_1</td>\n",
       "      <td>NaT</td>\n",
       "    </tr>\n",
       "    <tr>\n",
       "      <th>671647</th>\n",
       "      <td>T_0</td>\n",
       "      <td>test_2021-03-01 02:30:02.237424</td>\n",
       "      <td>s_0</td>\n",
       "      <td>ct_1</td>\n",
       "      <td>NaT</td>\n",
       "    </tr>\n",
       "    <tr>\n",
       "      <th>679180</th>\n",
       "      <td>T_0</td>\n",
       "      <td>test_2021-03-01 02:30:02.237425</td>\n",
       "      <td>s_0</td>\n",
       "      <td>ct_1</td>\n",
       "      <td>NaT</td>\n",
       "    </tr>\n",
       "  </tbody>\n",
       "</table>\n",
       "<p>200 rows × 5 columns</p>\n",
       "</div>"
      ],
      "text/plain": [
       "       id_prod                             date session_id client_id date_test\n",
       "3019       T_0  test_2021-03-01 02:30:02.237419        s_0      ct_0       NaT\n",
       "5138       T_0  test_2021-03-01 02:30:02.237425        s_0      ct_0       NaT\n",
       "9668       T_0  test_2021-03-01 02:30:02.237437        s_0      ct_1       NaT\n",
       "10728      T_0  test_2021-03-01 02:30:02.237436        s_0      ct_0       NaT\n",
       "15292      T_0  test_2021-03-01 02:30:02.237430        s_0      ct_0       NaT\n",
       "...        ...                              ...        ...       ...       ...\n",
       "657830     T_0  test_2021-03-01 02:30:02.237417        s_0      ct_0       NaT\n",
       "662081     T_0  test_2021-03-01 02:30:02.237427        s_0      ct_1       NaT\n",
       "670680     T_0  test_2021-03-01 02:30:02.237449        s_0      ct_1       NaT\n",
       "671647     T_0  test_2021-03-01 02:30:02.237424        s_0      ct_1       NaT\n",
       "679180     T_0  test_2021-03-01 02:30:02.237425        s_0      ct_1       NaT\n",
       "\n",
       "[200 rows x 5 columns]"
      ]
     },
     "execution_count": 13,
     "metadata": {},
     "output_type": "execute_result"
    }
   ],
   "source": [
    "# ajouter une colonne pour verifier les dates avec les formats anormaux\n",
    "df_trans['date_test'] = df_trans['date'].copy()\n",
    "\n",
    "# transférer les formats anormaux à NaT\n",
    "df_trans['date_test'] = pd.to_datetime(df_trans['date_test'], errors = 'coerce')\n",
    "print(df_trans.dtypes)\n",
    "\n",
    "# verifier la liste de date anormal\n",
    "df_null_time = df_trans.loc[df_trans['date_test'].isnull(), :]\n",
    "df_null_time"
   ]
  },
  {
   "cell_type": "code",
   "execution_count": 14,
   "id": "707f6b03-7b68-42e8-9ff7-b499a8fca864",
   "metadata": {},
   "outputs": [
    {
     "data": {
      "text/plain": [
       "count     200\n",
       "unique      1\n",
       "top       T_0\n",
       "freq      200\n",
       "Name: id_prod, dtype: object"
      ]
     },
     "execution_count": 14,
     "metadata": {},
     "output_type": "execute_result"
    }
   ],
   "source": [
    "df_null_time['id_prod'].describe()"
   ]
  },
  {
   "cell_type": "markdown",
   "id": "38563fed-f312-499d-affc-2536ac978d0c",
   "metadata": {},
   "source": [
    "<font color = Indigo> ***Comme discuté dans la partie \"1.1.1. La dispersion de donées? Valeur aberrant?\", les 200 lignes de transactions avec le même id_prod, et les temps de transactions presque pareils, sont les transactions génerés pour le test de système par les développeurs. Pour notre analyse, il faut les supprimer.** </font>"
   ]
  },
  {
   "cell_type": "code",
   "execution_count": 15,
   "id": "d140c7f0-cdb4-409c-8147-394774717b3a",
   "metadata": {},
   "outputs": [
    {
     "data": {
      "text/plain": [
       "False"
      ]
     },
     "execution_count": 15,
     "metadata": {},
     "output_type": "execute_result"
    }
   ],
   "source": [
    "# supprimer les valeurs manquants pour la colonne ['date_test'] pour supprimer les valeurs anormaux\n",
    "df_trans = df_trans.dropna(subset = ['date_test'])\n",
    "any(df_trans['date_test'].isnull()) # verifier s'il y a autre ligne avec valeurs anormaux"
   ]
  },
  {
   "cell_type": "code",
   "execution_count": 16,
   "id": "56e54a85-59e5-49c3-91a0-da8532c6668f",
   "metadata": {},
   "outputs": [
    {
     "name": "stdout",
     "output_type": "stream",
     "text": [
      "<class 'pandas.core.frame.DataFrame'>\n",
      "Int64Index: 679332 entries, 0 to 679531\n",
      "Data columns (total 4 columns):\n",
      " #   Column      Non-Null Count   Dtype         \n",
      "---  ------      --------------   -----         \n",
      " 0   id_prod     679332 non-null  object        \n",
      " 1   date        679332 non-null  datetime64[ns]\n",
      " 2   session_id  679332 non-null  object        \n",
      " 3   client_id   679332 non-null  object        \n",
      "dtypes: datetime64[ns](1), object(3)\n",
      "memory usage: 25.9+ MB\n"
     ]
    }
   ],
   "source": [
    "# supprimer la colonne 'date_test' après l'utilisation\n",
    "df_trans = df_trans.drop('date_test', axis = 1)\n",
    "\n",
    "# transferer la format de 'date' à datetime\n",
    "df_trans['date'] = pd.to_datetime(df_trans['date'])\n",
    "df_trans.info()"
   ]
  },
  {
   "cell_type": "markdown",
   "id": "a4c9d9e6-cfa6-4c6a-aa29-47ff435e609e",
   "metadata": {},
   "source": [
    "### l'unicité"
   ]
  },
  {
   "cell_type": "code",
   "execution_count": 17,
   "id": "efda58a5-64c5-4fb0-8182-acffc09c1b34",
   "metadata": {},
   "outputs": [
    {
     "data": {
      "text/html": [
       "<div>\n",
       "<style scoped>\n",
       "    .dataframe tbody tr th:only-of-type {\n",
       "        vertical-align: middle;\n",
       "    }\n",
       "\n",
       "    .dataframe tbody tr th {\n",
       "        vertical-align: top;\n",
       "    }\n",
       "\n",
       "    .dataframe thead th {\n",
       "        text-align: right;\n",
       "    }\n",
       "</style>\n",
       "<table border=\"1\" class=\"dataframe\">\n",
       "  <thead>\n",
       "    <tr style=\"text-align: right;\">\n",
       "      <th></th>\n",
       "      <th>id_prod</th>\n",
       "      <th>session_id</th>\n",
       "      <th>client_id</th>\n",
       "    </tr>\n",
       "  </thead>\n",
       "  <tbody>\n",
       "    <tr>\n",
       "      <th>count</th>\n",
       "      <td>679332</td>\n",
       "      <td>679332</td>\n",
       "      <td>679332</td>\n",
       "    </tr>\n",
       "    <tr>\n",
       "      <th>unique</th>\n",
       "      <td>3266</td>\n",
       "      <td>342315</td>\n",
       "      <td>8600</td>\n",
       "    </tr>\n",
       "    <tr>\n",
       "      <th>top</th>\n",
       "      <td>1_369</td>\n",
       "      <td>s_118668</td>\n",
       "      <td>c_1609</td>\n",
       "    </tr>\n",
       "    <tr>\n",
       "      <th>freq</th>\n",
       "      <td>2252</td>\n",
       "      <td>14</td>\n",
       "      <td>25488</td>\n",
       "    </tr>\n",
       "  </tbody>\n",
       "</table>\n",
       "</div>"
      ],
      "text/plain": [
       "       id_prod session_id client_id\n",
       "count   679332     679332    679332\n",
       "unique    3266     342315      8600\n",
       "top      1_369   s_118668    c_1609\n",
       "freq      2252         14     25488"
      ]
     },
     "execution_count": 17,
     "metadata": {},
     "output_type": "execute_result"
    }
   ],
   "source": [
    "df_trans[['id_prod', 'session_id', 'client_id']].describe()"
   ]
  },
  {
   "cell_type": "markdown",
   "id": "2df91380-9a42-4fb6-9a52-63110ecdb1d4",
   "metadata": {},
   "source": [
    "## customers.csv"
   ]
  },
  {
   "cell_type": "markdown",
   "id": "1c9f570f-6ab8-4502-afd0-75b251c25533",
   "metadata": {},
   "source": [
    "L'importation de données"
   ]
  },
  {
   "cell_type": "code",
   "execution_count": 18,
   "id": "fa47b70c-9b36-4e7b-8816-7ec55b85acc2",
   "metadata": {},
   "outputs": [
    {
     "data": {
      "text/html": [
       "<div>\n",
       "<style scoped>\n",
       "    .dataframe tbody tr th:only-of-type {\n",
       "        vertical-align: middle;\n",
       "    }\n",
       "\n",
       "    .dataframe tbody tr th {\n",
       "        vertical-align: top;\n",
       "    }\n",
       "\n",
       "    .dataframe thead th {\n",
       "        text-align: right;\n",
       "    }\n",
       "</style>\n",
       "<table border=\"1\" class=\"dataframe\">\n",
       "  <thead>\n",
       "    <tr style=\"text-align: right;\">\n",
       "      <th></th>\n",
       "      <th>client_id</th>\n",
       "      <th>sex</th>\n",
       "      <th>birth</th>\n",
       "    </tr>\n",
       "  </thead>\n",
       "  <tbody>\n",
       "    <tr>\n",
       "      <th>0</th>\n",
       "      <td>c_4410</td>\n",
       "      <td>f</td>\n",
       "      <td>1967</td>\n",
       "    </tr>\n",
       "    <tr>\n",
       "      <th>1</th>\n",
       "      <td>c_7839</td>\n",
       "      <td>f</td>\n",
       "      <td>1975</td>\n",
       "    </tr>\n",
       "    <tr>\n",
       "      <th>2</th>\n",
       "      <td>c_1699</td>\n",
       "      <td>f</td>\n",
       "      <td>1984</td>\n",
       "    </tr>\n",
       "    <tr>\n",
       "      <th>3</th>\n",
       "      <td>c_5961</td>\n",
       "      <td>f</td>\n",
       "      <td>1962</td>\n",
       "    </tr>\n",
       "    <tr>\n",
       "      <th>4</th>\n",
       "      <td>c_5320</td>\n",
       "      <td>m</td>\n",
       "      <td>1943</td>\n",
       "    </tr>\n",
       "  </tbody>\n",
       "</table>\n",
       "</div>"
      ],
      "text/plain": [
       "  client_id sex  birth\n",
       "0    c_4410   f   1967\n",
       "1    c_7839   f   1975\n",
       "2    c_1699   f   1984\n",
       "3    c_5961   f   1962\n",
       "4    c_5320   m   1943"
      ]
     },
     "execution_count": 18,
     "metadata": {},
     "output_type": "execute_result"
    }
   ],
   "source": [
    "df_cus = pd.read_csv('customers.csv')\n",
    "df_cus.head()"
   ]
  },
  {
   "cell_type": "code",
   "execution_count": 19,
   "id": "9b0d14db-0af6-4e47-a80a-1aa03ed30d8e",
   "metadata": {},
   "outputs": [
    {
     "name": "stdout",
     "output_type": "stream",
     "text": [
      "<class 'pandas.core.frame.DataFrame'>\n",
      "RangeIndex: 8623 entries, 0 to 8622\n",
      "Data columns (total 3 columns):\n",
      " #   Column     Non-Null Count  Dtype \n",
      "---  ------     --------------  ----- \n",
      " 0   client_id  8623 non-null   object\n",
      " 1   sex        8623 non-null   object\n",
      " 2   birth      8623 non-null   int64 \n",
      "dtypes: int64(1), object(2)\n",
      "memory usage: 202.2+ KB\n"
     ]
    }
   ],
   "source": [
    "df_cus.info()"
   ]
  },
  {
   "cell_type": "markdown",
   "id": "d0b8d500-1a10-4f57-a34b-29fd419ebdbe",
   "metadata": {},
   "source": [
    "<font color = Indigo> ***Il n'y a pas de valeur manquante.** </font>"
   ]
  },
  {
   "cell_type": "code",
   "execution_count": 20,
   "id": "05450c7f-6b41-49c1-accb-31d93f2eda27",
   "metadata": {},
   "outputs": [
    {
     "data": {
      "text/html": [
       "<div>\n",
       "<style scoped>\n",
       "    .dataframe tbody tr th:only-of-type {\n",
       "        vertical-align: middle;\n",
       "    }\n",
       "\n",
       "    .dataframe tbody tr th {\n",
       "        vertical-align: top;\n",
       "    }\n",
       "\n",
       "    .dataframe thead th {\n",
       "        text-align: right;\n",
       "    }\n",
       "</style>\n",
       "<table border=\"1\" class=\"dataframe\">\n",
       "  <thead>\n",
       "    <tr style=\"text-align: right;\">\n",
       "      <th></th>\n",
       "      <th>client_id</th>\n",
       "      <th>sex</th>\n",
       "    </tr>\n",
       "  </thead>\n",
       "  <tbody>\n",
       "    <tr>\n",
       "      <th>count</th>\n",
       "      <td>8623</td>\n",
       "      <td>8623</td>\n",
       "    </tr>\n",
       "    <tr>\n",
       "      <th>unique</th>\n",
       "      <td>8623</td>\n",
       "      <td>2</td>\n",
       "    </tr>\n",
       "    <tr>\n",
       "      <th>top</th>\n",
       "      <td>c_4410</td>\n",
       "      <td>f</td>\n",
       "    </tr>\n",
       "    <tr>\n",
       "      <th>freq</th>\n",
       "      <td>1</td>\n",
       "      <td>4491</td>\n",
       "    </tr>\n",
       "  </tbody>\n",
       "</table>\n",
       "</div>"
      ],
      "text/plain": [
       "       client_id   sex\n",
       "count       8623  8623\n",
       "unique      8623     2\n",
       "top       c_4410     f\n",
       "freq           1  4491"
      ]
     },
     "execution_count": 20,
     "metadata": {},
     "output_type": "execute_result"
    }
   ],
   "source": [
    "df_cus[['client_id', 'sex']].describe()"
   ]
  },
  {
   "cell_type": "markdown",
   "id": "0523be53-b02f-408c-9e1f-48c640f54f20",
   "metadata": {},
   "source": [
    "<font color = Indigo> ***Il n'y a pas de valeur doublon.** </font>"
   ]
  },
  {
   "cell_type": "markdown",
   "id": "e4d51277-f921-4ba3-9c4a-88cb90ae362c",
   "metadata": {
    "tags": []
   },
   "source": [
    "### ajouter la colonne 'age'"
   ]
  },
  {
   "cell_type": "code",
   "execution_count": 21,
   "id": "fe8f5ae0-dc42-4493-8bec-afab6783b813",
   "metadata": {},
   "outputs": [
    {
     "data": {
      "text/plain": [
       "count    8623.000000\n",
       "mean       43.719123\n",
       "std        16.919535\n",
       "min        18.000000\n",
       "25%        30.000000\n",
       "50%        43.000000\n",
       "75%        56.000000\n",
       "max        93.000000\n",
       "Name: age, dtype: float64"
      ]
     },
     "execution_count": 21,
     "metadata": {},
     "output_type": "execute_result"
    }
   ],
   "source": [
    "# calculer la colonne 'age'\n",
    "df_cus['age'] = 2022 - df_cus['birth']\n",
    "df_cus['age'] = df_cus['age'].astype('int64')\n",
    "df_cus['age'].describe()"
   ]
  },
  {
   "cell_type": "markdown",
   "id": "6915a2cb-fac4-4c97-9a52-3e36061f00fe",
   "metadata": {},
   "source": [
    "<font color = Indigo> ***Il n'y a pas de valeur aberrant.** </font>"
   ]
  },
  {
   "cell_type": "markdown",
   "id": "eb499021-7c47-42ed-ae90-914f6c4ae224",
   "metadata": {},
   "source": [
    "## La jointure de 'df_product', 'df_trans', 'df_cus'"
   ]
  },
  {
   "cell_type": "markdown",
   "id": "8c78b63f-9f47-416b-84cc-9596704a8d23",
   "metadata": {},
   "source": [
    "<font color = Indigo> ***outer join 'df_trans' et 'df_product': pour garder tous les produits (même si les 0 vente) et tous les transactions.** </font>\n",
    "\n",
    "<font color = Indigo> ***left join 'df_temp1' et 'df_cus': pour garder tous les produits (même si les 0 vente) et tous les transactions.** </font>"
   ]
  },
  {
   "cell_type": "code",
   "execution_count": 22,
   "id": "c028d88b-dbca-4739-be12-1f4dc334b5bb",
   "metadata": {},
   "outputs": [
    {
     "data": {
      "text/html": [
       "<div>\n",
       "<style scoped>\n",
       "    .dataframe tbody tr th:only-of-type {\n",
       "        vertical-align: middle;\n",
       "    }\n",
       "\n",
       "    .dataframe tbody tr th {\n",
       "        vertical-align: top;\n",
       "    }\n",
       "\n",
       "    .dataframe thead th {\n",
       "        text-align: right;\n",
       "    }\n",
       "</style>\n",
       "<table border=\"1\" class=\"dataframe\">\n",
       "  <thead>\n",
       "    <tr style=\"text-align: right;\">\n",
       "      <th></th>\n",
       "      <th>id_prod</th>\n",
       "      <th>date</th>\n",
       "      <th>session_id</th>\n",
       "      <th>client_id</th>\n",
       "      <th>price</th>\n",
       "      <th>categ</th>\n",
       "      <th>sex</th>\n",
       "      <th>birth</th>\n",
       "      <th>age</th>\n",
       "    </tr>\n",
       "    <tr>\n",
       "      <th>index</th>\n",
       "      <th></th>\n",
       "      <th></th>\n",
       "      <th></th>\n",
       "      <th></th>\n",
       "      <th></th>\n",
       "      <th></th>\n",
       "      <th></th>\n",
       "      <th></th>\n",
       "      <th></th>\n",
       "    </tr>\n",
       "  </thead>\n",
       "  <tbody>\n",
       "    <tr>\n",
       "      <th>0</th>\n",
       "      <td>0_1518</td>\n",
       "      <td>2022-05-20 13:21:29.043970</td>\n",
       "      <td>s_211425</td>\n",
       "      <td>c_103</td>\n",
       "      <td>4.18</td>\n",
       "      <td>0.0</td>\n",
       "      <td>f</td>\n",
       "      <td>1986.0</td>\n",
       "      <td>36.0</td>\n",
       "    </tr>\n",
       "    <tr>\n",
       "      <th>1</th>\n",
       "      <td>0_1518</td>\n",
       "      <td>2021-09-26 12:37:29.780414</td>\n",
       "      <td>s_95811</td>\n",
       "      <td>c_6197</td>\n",
       "      <td>4.18</td>\n",
       "      <td>0.0</td>\n",
       "      <td>m</td>\n",
       "      <td>1985.0</td>\n",
       "      <td>37.0</td>\n",
       "    </tr>\n",
       "    <tr>\n",
       "      <th>2</th>\n",
       "      <td>0_1518</td>\n",
       "      <td>2021-05-06 17:14:43.117440</td>\n",
       "      <td>s_30782</td>\n",
       "      <td>c_682</td>\n",
       "      <td>4.18</td>\n",
       "      <td>0.0</td>\n",
       "      <td>f</td>\n",
       "      <td>1974.0</td>\n",
       "      <td>48.0</td>\n",
       "    </tr>\n",
       "    <tr>\n",
       "      <th>3</th>\n",
       "      <td>0_1518</td>\n",
       "      <td>2022-03-16 18:57:10.420103</td>\n",
       "      <td>s_180057</td>\n",
       "      <td>c_5932</td>\n",
       "      <td>4.18</td>\n",
       "      <td>0.0</td>\n",
       "      <td>f</td>\n",
       "      <td>1962.0</td>\n",
       "      <td>60.0</td>\n",
       "    </tr>\n",
       "    <tr>\n",
       "      <th>4</th>\n",
       "      <td>0_1518</td>\n",
       "      <td>2022-11-12 18:58:10.574853</td>\n",
       "      <td>s_296584</td>\n",
       "      <td>c_7217</td>\n",
       "      <td>4.18</td>\n",
       "      <td>0.0</td>\n",
       "      <td>f</td>\n",
       "      <td>1976.0</td>\n",
       "      <td>46.0</td>\n",
       "    </tr>\n",
       "  </tbody>\n",
       "</table>\n",
       "</div>"
      ],
      "text/plain": [
       "      id_prod                       date session_id client_id  price  categ  \\\n",
       "index                                                                         \n",
       "0      0_1518 2022-05-20 13:21:29.043970   s_211425     c_103   4.18    0.0   \n",
       "1      0_1518 2021-09-26 12:37:29.780414    s_95811    c_6197   4.18    0.0   \n",
       "2      0_1518 2021-05-06 17:14:43.117440    s_30782     c_682   4.18    0.0   \n",
       "3      0_1518 2022-03-16 18:57:10.420103   s_180057    c_5932   4.18    0.0   \n",
       "4      0_1518 2022-11-12 18:58:10.574853   s_296584    c_7217   4.18    0.0   \n",
       "\n",
       "      sex   birth   age  \n",
       "index                    \n",
       "0       f  1986.0  36.0  \n",
       "1       m  1985.0  37.0  \n",
       "2       f  1974.0  48.0  \n",
       "3       f  1962.0  60.0  \n",
       "4       f  1976.0  46.0  "
      ]
     },
     "execution_count": 22,
     "metadata": {},
     "output_type": "execute_result"
    }
   ],
   "source": [
    "# la jointure de 3 dateframes avec outer joint et left joint\n",
    "df_temp1 = pd.merge(df_trans, df_product, on = 'id_prod', how = 'outer') \n",
    "df = pd.merge(df_temp1, df_cus, on = 'client_id', how = 'left')\n",
    "df.index.name='index' \n",
    "df.head()"
   ]
  },
  {
   "cell_type": "code",
   "execution_count": 23,
   "id": "b2fdcec5-edf7-4465-b69c-d7f32187b0b7",
   "metadata": {},
   "outputs": [
    {
     "name": "stdout",
     "output_type": "stream",
     "text": [
      "<class 'pandas.core.frame.DataFrame'>\n",
      "Int64Index: 679353 entries, 0 to 679352\n",
      "Data columns (total 9 columns):\n",
      " #   Column      Non-Null Count   Dtype         \n",
      "---  ------      --------------   -----         \n",
      " 0   id_prod     679353 non-null  object        \n",
      " 1   date        679332 non-null  datetime64[ns]\n",
      " 2   session_id  679332 non-null  object        \n",
      " 3   client_id   679332 non-null  object        \n",
      " 4   price       679132 non-null  float64       \n",
      " 5   categ       679132 non-null  float64       \n",
      " 6   sex         679332 non-null  object        \n",
      " 7   birth       679332 non-null  float64       \n",
      " 8   age         679332 non-null  float64       \n",
      "dtypes: datetime64[ns](1), float64(4), object(4)\n",
      "memory usage: 51.8+ MB\n"
     ]
    }
   ],
   "source": [
    "df.info()"
   ]
  },
  {
   "cell_type": "code",
   "execution_count": 24,
   "id": "d667f57d-eec0-4eb1-a5a5-d8d50af30d49",
   "metadata": {},
   "outputs": [
    {
     "data": {
      "text/html": [
       "<div>\n",
       "<style scoped>\n",
       "    .dataframe tbody tr th:only-of-type {\n",
       "        vertical-align: middle;\n",
       "    }\n",
       "\n",
       "    .dataframe tbody tr th {\n",
       "        vertical-align: top;\n",
       "    }\n",
       "\n",
       "    .dataframe thead th {\n",
       "        text-align: right;\n",
       "    }\n",
       "</style>\n",
       "<table border=\"1\" class=\"dataframe\">\n",
       "  <thead>\n",
       "    <tr style=\"text-align: right;\">\n",
       "      <th></th>\n",
       "      <th>price</th>\n",
       "      <th>categ</th>\n",
       "      <th>birth</th>\n",
       "      <th>age</th>\n",
       "    </tr>\n",
       "  </thead>\n",
       "  <tbody>\n",
       "    <tr>\n",
       "      <th>count</th>\n",
       "      <td>679132.000000</td>\n",
       "      <td>679132.000000</td>\n",
       "      <td>679332.000000</td>\n",
       "      <td>679332.000000</td>\n",
       "    </tr>\n",
       "    <tr>\n",
       "      <th>mean</th>\n",
       "      <td>17.455405</td>\n",
       "      <td>0.441951</td>\n",
       "      <td>1977.811139</td>\n",
       "      <td>44.188861</td>\n",
       "    </tr>\n",
       "    <tr>\n",
       "      <th>std</th>\n",
       "      <td>18.331641</td>\n",
       "      <td>0.595046</td>\n",
       "      <td>13.574553</td>\n",
       "      <td>13.574553</td>\n",
       "    </tr>\n",
       "    <tr>\n",
       "      <th>min</th>\n",
       "      <td>0.620000</td>\n",
       "      <td>0.000000</td>\n",
       "      <td>1929.000000</td>\n",
       "      <td>18.000000</td>\n",
       "    </tr>\n",
       "    <tr>\n",
       "      <th>25%</th>\n",
       "      <td>8.870000</td>\n",
       "      <td>0.000000</td>\n",
       "      <td>1970.000000</td>\n",
       "      <td>35.000000</td>\n",
       "    </tr>\n",
       "    <tr>\n",
       "      <th>50%</th>\n",
       "      <td>13.990000</td>\n",
       "      <td>0.000000</td>\n",
       "      <td>1980.000000</td>\n",
       "      <td>42.000000</td>\n",
       "    </tr>\n",
       "    <tr>\n",
       "      <th>75%</th>\n",
       "      <td>18.990000</td>\n",
       "      <td>1.000000</td>\n",
       "      <td>1987.000000</td>\n",
       "      <td>52.000000</td>\n",
       "    </tr>\n",
       "    <tr>\n",
       "      <th>max</th>\n",
       "      <td>300.000000</td>\n",
       "      <td>2.000000</td>\n",
       "      <td>2004.000000</td>\n",
       "      <td>93.000000</td>\n",
       "    </tr>\n",
       "  </tbody>\n",
       "</table>\n",
       "</div>"
      ],
      "text/plain": [
       "               price          categ          birth            age\n",
       "count  679132.000000  679132.000000  679332.000000  679332.000000\n",
       "mean       17.455405       0.441951    1977.811139      44.188861\n",
       "std        18.331641       0.595046      13.574553      13.574553\n",
       "min         0.620000       0.000000    1929.000000      18.000000\n",
       "25%         8.870000       0.000000    1970.000000      35.000000\n",
       "50%        13.990000       0.000000    1980.000000      42.000000\n",
       "75%        18.990000       1.000000    1987.000000      52.000000\n",
       "max       300.000000       2.000000    2004.000000      93.000000"
      ]
     },
     "execution_count": 24,
     "metadata": {},
     "output_type": "execute_result"
    }
   ],
   "source": [
    "df.describe()"
   ]
  },
  {
   "cell_type": "markdown",
   "id": "e8b60781-aabc-47af-8003-571b103d29f5",
   "metadata": {},
   "source": [
    "## traiter les valeurs manquantes (id_prod: 0_2245)"
   ]
  },
  {
   "cell_type": "code",
   "execution_count": 25,
   "id": "6af5c012-7adc-43aa-9b4d-2daef83b282f",
   "metadata": {},
   "outputs": [
    {
     "data": {
      "text/html": [
       "<div>\n",
       "<style scoped>\n",
       "    .dataframe tbody tr th:only-of-type {\n",
       "        vertical-align: middle;\n",
       "    }\n",
       "\n",
       "    .dataframe tbody tr th {\n",
       "        vertical-align: top;\n",
       "    }\n",
       "\n",
       "    .dataframe thead th {\n",
       "        text-align: right;\n",
       "    }\n",
       "</style>\n",
       "<table border=\"1\" class=\"dataframe\">\n",
       "  <thead>\n",
       "    <tr style=\"text-align: right;\">\n",
       "      <th></th>\n",
       "      <th>id_prod</th>\n",
       "      <th>session_id</th>\n",
       "      <th>client_id</th>\n",
       "      <th>sex</th>\n",
       "    </tr>\n",
       "  </thead>\n",
       "  <tbody>\n",
       "    <tr>\n",
       "      <th>count</th>\n",
       "      <td>221</td>\n",
       "      <td>221</td>\n",
       "      <td>221</td>\n",
       "      <td>221</td>\n",
       "    </tr>\n",
       "    <tr>\n",
       "      <th>unique</th>\n",
       "      <td>1</td>\n",
       "      <td>221</td>\n",
       "      <td>100</td>\n",
       "      <td>2</td>\n",
       "    </tr>\n",
       "    <tr>\n",
       "      <th>top</th>\n",
       "      <td>0_2245</td>\n",
       "      <td>s_272266</td>\n",
       "      <td>c_1533</td>\n",
       "      <td>f</td>\n",
       "    </tr>\n",
       "    <tr>\n",
       "      <th>freq</th>\n",
       "      <td>221</td>\n",
       "      <td>1</td>\n",
       "      <td>6</td>\n",
       "      <td>117</td>\n",
       "    </tr>\n",
       "  </tbody>\n",
       "</table>\n",
       "</div>"
      ],
      "text/plain": [
       "       id_prod session_id client_id  sex\n",
       "count      221        221       221  221\n",
       "unique       1        221       100    2\n",
       "top     0_2245   s_272266    c_1533    f\n",
       "freq       221          1         6  117"
      ]
     },
     "execution_count": 25,
     "metadata": {},
     "output_type": "execute_result"
    }
   ],
   "source": [
    "# selectionner les lignes avec prix manquantes\n",
    "df_null = df.loc[df['price'].isnull(),:]\n",
    "\n",
    "# verifier l'information de cettes lignes\n",
    "df_null[['id_prod','session_id','client_id','sex']].describe()"
   ]
  },
  {
   "cell_type": "code",
   "execution_count": 26,
   "id": "a8be5148-7b8b-4b70-9460-33c093c4ce53",
   "metadata": {},
   "outputs": [
    {
     "data": {
      "text/plain": [
       "False"
      ]
     },
     "execution_count": 26,
     "metadata": {},
     "output_type": "execute_result"
    }
   ],
   "source": [
    "# verifier s'il y a 'id_prod: 0_2245' dans la liste de produit\n",
    "any(df_product['id_prod']=='0_2245')"
   ]
  },
  {
   "cell_type": "markdown",
   "id": "f77253e8-60d0-4ede-8baf-98cf07749990",
   "metadata": {},
   "source": [
    "<font color = Indigo> ***Il y a un produit sans id_prod correspondant.** </font>"
   ]
  },
  {
   "cell_type": "code",
   "execution_count": 27,
   "id": "db7ed9e8-5c78-4075-8a45-2f8e3b93501d",
   "metadata": {},
   "outputs": [
    {
     "data": {
      "text/html": [
       "<div>\n",
       "<style scoped>\n",
       "    .dataframe tbody tr th:only-of-type {\n",
       "        vertical-align: middle;\n",
       "    }\n",
       "\n",
       "    .dataframe tbody tr th {\n",
       "        vertical-align: top;\n",
       "    }\n",
       "\n",
       "    .dataframe thead th {\n",
       "        text-align: right;\n",
       "    }\n",
       "</style>\n",
       "<table border=\"1\" class=\"dataframe\">\n",
       "  <thead>\n",
       "    <tr style=\"text-align: right;\">\n",
       "      <th></th>\n",
       "      <th>id_prod</th>\n",
       "      <th>date</th>\n",
       "      <th>session_id</th>\n",
       "      <th>client_id</th>\n",
       "      <th>price</th>\n",
       "      <th>categ</th>\n",
       "      <th>sex</th>\n",
       "      <th>birth</th>\n",
       "      <th>age</th>\n",
       "    </tr>\n",
       "    <tr>\n",
       "      <th>index</th>\n",
       "      <th></th>\n",
       "      <th></th>\n",
       "      <th></th>\n",
       "      <th></th>\n",
       "      <th></th>\n",
       "      <th></th>\n",
       "      <th></th>\n",
       "      <th></th>\n",
       "      <th></th>\n",
       "    </tr>\n",
       "  </thead>\n",
       "  <tbody>\n",
       "    <tr>\n",
       "      <th>542560</th>\n",
       "      <td>0_2245</td>\n",
       "      <td>2022-09-23 07:22:38.636773</td>\n",
       "      <td>s_272266</td>\n",
       "      <td>c_4746</td>\n",
       "      <td>NaN</td>\n",
       "      <td>NaN</td>\n",
       "      <td>m</td>\n",
       "      <td>1940.0</td>\n",
       "      <td>82.0</td>\n",
       "    </tr>\n",
       "    <tr>\n",
       "      <th>542561</th>\n",
       "      <td>0_2245</td>\n",
       "      <td>2022-07-23 09:24:14.133889</td>\n",
       "      <td>s_242482</td>\n",
       "      <td>c_6713</td>\n",
       "      <td>NaN</td>\n",
       "      <td>NaN</td>\n",
       "      <td>f</td>\n",
       "      <td>1963.0</td>\n",
       "      <td>59.0</td>\n",
       "    </tr>\n",
       "    <tr>\n",
       "      <th>542562</th>\n",
       "      <td>0_2245</td>\n",
       "      <td>2022-12-03 03:26:35.696673</td>\n",
       "      <td>s_306338</td>\n",
       "      <td>c_5108</td>\n",
       "      <td>NaN</td>\n",
       "      <td>NaN</td>\n",
       "      <td>m</td>\n",
       "      <td>1978.0</td>\n",
       "      <td>44.0</td>\n",
       "    </tr>\n",
       "    <tr>\n",
       "      <th>542563</th>\n",
       "      <td>0_2245</td>\n",
       "      <td>2021-08-16 11:33:25.481411</td>\n",
       "      <td>s_76493</td>\n",
       "      <td>c_1391</td>\n",
       "      <td>NaN</td>\n",
       "      <td>NaN</td>\n",
       "      <td>m</td>\n",
       "      <td>1991.0</td>\n",
       "      <td>31.0</td>\n",
       "    </tr>\n",
       "    <tr>\n",
       "      <th>542564</th>\n",
       "      <td>0_2245</td>\n",
       "      <td>2022-07-16 05:53:01.627491</td>\n",
       "      <td>s_239078</td>\n",
       "      <td>c_7954</td>\n",
       "      <td>NaN</td>\n",
       "      <td>NaN</td>\n",
       "      <td>m</td>\n",
       "      <td>1973.0</td>\n",
       "      <td>49.0</td>\n",
       "    </tr>\n",
       "    <tr>\n",
       "      <th>...</th>\n",
       "      <td>...</td>\n",
       "      <td>...</td>\n",
       "      <td>...</td>\n",
       "      <td>...</td>\n",
       "      <td>...</td>\n",
       "      <td>...</td>\n",
       "      <td>...</td>\n",
       "      <td>...</td>\n",
       "      <td>...</td>\n",
       "    </tr>\n",
       "    <tr>\n",
       "      <th>542776</th>\n",
       "      <td>0_2245</td>\n",
       "      <td>2021-08-25 09:06:03.504061</td>\n",
       "      <td>s_80395</td>\n",
       "      <td>c_131</td>\n",
       "      <td>NaN</td>\n",
       "      <td>NaN</td>\n",
       "      <td>m</td>\n",
       "      <td>1981.0</td>\n",
       "      <td>41.0</td>\n",
       "    </tr>\n",
       "    <tr>\n",
       "      <th>542777</th>\n",
       "      <td>0_2245</td>\n",
       "      <td>2022-03-06 19:59:19.462288</td>\n",
       "      <td>s_175311</td>\n",
       "      <td>c_4167</td>\n",
       "      <td>NaN</td>\n",
       "      <td>NaN</td>\n",
       "      <td>f</td>\n",
       "      <td>1979.0</td>\n",
       "      <td>43.0</td>\n",
       "    </tr>\n",
       "    <tr>\n",
       "      <th>542778</th>\n",
       "      <td>0_2245</td>\n",
       "      <td>2022-05-16 11:35:20.319501</td>\n",
       "      <td>s_209381</td>\n",
       "      <td>c_4453</td>\n",
       "      <td>NaN</td>\n",
       "      <td>NaN</td>\n",
       "      <td>m</td>\n",
       "      <td>1981.0</td>\n",
       "      <td>41.0</td>\n",
       "    </tr>\n",
       "    <tr>\n",
       "      <th>542779</th>\n",
       "      <td>0_2245</td>\n",
       "      <td>2022-02-11 09:05:43.952857</td>\n",
       "      <td>s_163405</td>\n",
       "      <td>c_1098</td>\n",
       "      <td>NaN</td>\n",
       "      <td>NaN</td>\n",
       "      <td>m</td>\n",
       "      <td>1986.0</td>\n",
       "      <td>36.0</td>\n",
       "    </tr>\n",
       "    <tr>\n",
       "      <th>542780</th>\n",
       "      <td>0_2245</td>\n",
       "      <td>2021-12-14 22:34:54.589921</td>\n",
       "      <td>s_134446</td>\n",
       "      <td>c_4854</td>\n",
       "      <td>NaN</td>\n",
       "      <td>NaN</td>\n",
       "      <td>m</td>\n",
       "      <td>1968.0</td>\n",
       "      <td>54.0</td>\n",
       "    </tr>\n",
       "  </tbody>\n",
       "</table>\n",
       "<p>221 rows × 9 columns</p>\n",
       "</div>"
      ],
      "text/plain": [
       "       id_prod                       date session_id client_id  price  categ  \\\n",
       "index                                                                          \n",
       "542560  0_2245 2022-09-23 07:22:38.636773   s_272266    c_4746    NaN    NaN   \n",
       "542561  0_2245 2022-07-23 09:24:14.133889   s_242482    c_6713    NaN    NaN   \n",
       "542562  0_2245 2022-12-03 03:26:35.696673   s_306338    c_5108    NaN    NaN   \n",
       "542563  0_2245 2021-08-16 11:33:25.481411    s_76493    c_1391    NaN    NaN   \n",
       "542564  0_2245 2022-07-16 05:53:01.627491   s_239078    c_7954    NaN    NaN   \n",
       "...        ...                        ...        ...       ...    ...    ...   \n",
       "542776  0_2245 2021-08-25 09:06:03.504061    s_80395     c_131    NaN    NaN   \n",
       "542777  0_2245 2022-03-06 19:59:19.462288   s_175311    c_4167    NaN    NaN   \n",
       "542778  0_2245 2022-05-16 11:35:20.319501   s_209381    c_4453    NaN    NaN   \n",
       "542779  0_2245 2022-02-11 09:05:43.952857   s_163405    c_1098    NaN    NaN   \n",
       "542780  0_2245 2021-12-14 22:34:54.589921   s_134446    c_4854    NaN    NaN   \n",
       "\n",
       "       sex   birth   age  \n",
       "index                     \n",
       "542560   m  1940.0  82.0  \n",
       "542561   f  1963.0  59.0  \n",
       "542562   m  1978.0  44.0  \n",
       "542563   m  1991.0  31.0  \n",
       "542564   m  1973.0  49.0  \n",
       "...     ..     ...   ...  \n",
       "542776   m  1981.0  41.0  \n",
       "542777   f  1979.0  43.0  \n",
       "542778   m  1981.0  41.0  \n",
       "542779   m  1986.0  36.0  \n",
       "542780   m  1968.0  54.0  \n",
       "\n",
       "[221 rows x 9 columns]"
      ]
     },
     "execution_count": 27,
     "metadata": {},
     "output_type": "execute_result"
    }
   ],
   "source": [
    "# verifier l'information de cettes lignes\n",
    "df_null"
   ]
  },
  {
   "cell_type": "markdown",
   "id": "73bec06e-cbb0-4512-8d47-dd90d168f88f",
   "metadata": {},
   "source": [
    "### ajouter le catégorie pour le produit '0_2245'"
   ]
  },
  {
   "cell_type": "code",
   "execution_count": 28,
   "id": "9f0c228d-c5cf-49bf-8370-63b7073ad5af",
   "metadata": {},
   "outputs": [
    {
     "data": {
      "text/html": [
       "<div>\n",
       "<style scoped>\n",
       "    .dataframe tbody tr th:only-of-type {\n",
       "        vertical-align: middle;\n",
       "    }\n",
       "\n",
       "    .dataframe tbody tr th {\n",
       "        vertical-align: top;\n",
       "    }\n",
       "\n",
       "    .dataframe thead th {\n",
       "        text-align: right;\n",
       "    }\n",
       "</style>\n",
       "<table border=\"1\" class=\"dataframe\">\n",
       "  <thead>\n",
       "    <tr style=\"text-align: right;\">\n",
       "      <th></th>\n",
       "      <th>id_prod</th>\n",
       "      <th>price</th>\n",
       "      <th>categ</th>\n",
       "    </tr>\n",
       "  </thead>\n",
       "  <tbody>\n",
       "    <tr>\n",
       "      <th>0</th>\n",
       "      <td>0_1421</td>\n",
       "      <td>19.99</td>\n",
       "      <td>0</td>\n",
       "    </tr>\n",
       "    <tr>\n",
       "      <th>1</th>\n",
       "      <td>0_1368</td>\n",
       "      <td>5.13</td>\n",
       "      <td>0</td>\n",
       "    </tr>\n",
       "    <tr>\n",
       "      <th>2</th>\n",
       "      <td>0_731</td>\n",
       "      <td>17.99</td>\n",
       "      <td>0</td>\n",
       "    </tr>\n",
       "    <tr>\n",
       "      <th>3</th>\n",
       "      <td>1_587</td>\n",
       "      <td>4.99</td>\n",
       "      <td>1</td>\n",
       "    </tr>\n",
       "    <tr>\n",
       "      <th>4</th>\n",
       "      <td>0_1507</td>\n",
       "      <td>3.99</td>\n",
       "      <td>0</td>\n",
       "    </tr>\n",
       "    <tr>\n",
       "      <th>5</th>\n",
       "      <td>0_1163</td>\n",
       "      <td>9.99</td>\n",
       "      <td>0</td>\n",
       "    </tr>\n",
       "    <tr>\n",
       "      <th>6</th>\n",
       "      <td>1_463</td>\n",
       "      <td>36.99</td>\n",
       "      <td>1</td>\n",
       "    </tr>\n",
       "    <tr>\n",
       "      <th>7</th>\n",
       "      <td>0_2157</td>\n",
       "      <td>34.99</td>\n",
       "      <td>0</td>\n",
       "    </tr>\n",
       "    <tr>\n",
       "      <th>8</th>\n",
       "      <td>0_1915</td>\n",
       "      <td>16.99</td>\n",
       "      <td>0</td>\n",
       "    </tr>\n",
       "    <tr>\n",
       "      <th>9</th>\n",
       "      <td>0_389</td>\n",
       "      <td>18.99</td>\n",
       "      <td>0</td>\n",
       "    </tr>\n",
       "    <tr>\n",
       "      <th>10</th>\n",
       "      <td>2_228</td>\n",
       "      <td>225.17</td>\n",
       "      <td>2</td>\n",
       "    </tr>\n",
       "    <tr>\n",
       "      <th>11</th>\n",
       "      <td>1_178</td>\n",
       "      <td>51.92</td>\n",
       "      <td>1</td>\n",
       "    </tr>\n",
       "  </tbody>\n",
       "</table>\n",
       "</div>"
      ],
      "text/plain": [
       "   id_prod   price  categ\n",
       "0   0_1421   19.99      0\n",
       "1   0_1368    5.13      0\n",
       "2    0_731   17.99      0\n",
       "3    1_587    4.99      1\n",
       "4   0_1507    3.99      0\n",
       "5   0_1163    9.99      0\n",
       "6    1_463   36.99      1\n",
       "7   0_2157   34.99      0\n",
       "8   0_1915   16.99      0\n",
       "9    0_389   18.99      0\n",
       "10   2_228  225.17      2\n",
       "11   1_178   51.92      1"
      ]
     },
     "execution_count": 28,
     "metadata": {},
     "output_type": "execute_result"
    }
   ],
   "source": [
    "df_product.head(12)"
   ]
  },
  {
   "cell_type": "markdown",
   "id": "5fa4846f-007c-4381-9c6a-e44caae9acec",
   "metadata": {},
   "source": [
    "<font color = Indigo> ***le premier numéro (0,1,2) de 'id_prod' indique la catégorie de chaque produit (0,1,2). '0_2245' est dans la categ 0.** </font>"
   ]
  },
  {
   "cell_type": "code",
   "execution_count": 29,
   "id": "6da99a23-594b-4fdc-bb6a-ab03837e036a",
   "metadata": {},
   "outputs": [],
   "source": [
    "# ajouter le catégory '0' pour le produit '0_2245'\n",
    "df['categ'] = df['categ'].fillna(0)"
   ]
  },
  {
   "cell_type": "markdown",
   "id": "b50ddcf4-0945-4565-8828-e9314704e325",
   "metadata": {},
   "source": [
    "### imputer les prix pour le produit '0_2245'"
   ]
  },
  {
   "cell_type": "code",
   "execution_count": 30,
   "id": "07c0c2b4-fc75-49e7-b062-104af5ab2cba",
   "metadata": {},
   "outputs": [
    {
     "data": {
      "text/html": [
       "<div>\n",
       "<style scoped>\n",
       "    .dataframe tbody tr th:only-of-type {\n",
       "        vertical-align: middle;\n",
       "    }\n",
       "\n",
       "    .dataframe tbody tr th {\n",
       "        vertical-align: top;\n",
       "    }\n",
       "\n",
       "    .dataframe thead th {\n",
       "        text-align: right;\n",
       "    }\n",
       "</style>\n",
       "<table border=\"1\" class=\"dataframe\">\n",
       "  <thead>\n",
       "    <tr style=\"text-align: right;\">\n",
       "      <th></th>\n",
       "      <th>price</th>\n",
       "    </tr>\n",
       "    <tr>\n",
       "      <th>categ</th>\n",
       "      <th></th>\n",
       "    </tr>\n",
       "  </thead>\n",
       "  <tbody>\n",
       "    <tr>\n",
       "      <th>0</th>\n",
       "      <td>11.727280</td>\n",
       "    </tr>\n",
       "    <tr>\n",
       "      <th>1</th>\n",
       "      <td>25.531421</td>\n",
       "    </tr>\n",
       "    <tr>\n",
       "      <th>2</th>\n",
       "      <td>108.354686</td>\n",
       "    </tr>\n",
       "  </tbody>\n",
       "</table>\n",
       "</div>"
      ],
      "text/plain": [
       "            price\n",
       "categ            \n",
       "0       11.727280\n",
       "1       25.531421\n",
       "2      108.354686"
      ]
     },
     "execution_count": 30,
     "metadata": {},
     "output_type": "execute_result"
    }
   ],
   "source": [
    "# calculé déjà les prix moyenne de chaque catégorie dans la partie 1.1. products.csv\n",
    "df_cmean"
   ]
  },
  {
   "cell_type": "markdown",
   "id": "969d41b7-61e7-4a9e-85ec-d28173584287",
   "metadata": {},
   "source": [
    "<font color = Indigo> ***imputer le prix de '0_2245' par 11.73 euro, le prix moyenne de categ 0** </font>"
   ]
  },
  {
   "cell_type": "code",
   "execution_count": 31,
   "id": "6fbfa5e0-f9b9-4c8f-b8be-44dd6743c06f",
   "metadata": {},
   "outputs": [
    {
     "name": "stdout",
     "output_type": "stream",
     "text": [
      "<class 'pandas.core.frame.DataFrame'>\n",
      "Int64Index: 679353 entries, 0 to 679352\n",
      "Data columns (total 9 columns):\n",
      " #   Column      Non-Null Count   Dtype         \n",
      "---  ------      --------------   -----         \n",
      " 0   id_prod     679353 non-null  object        \n",
      " 1   date        679332 non-null  datetime64[ns]\n",
      " 2   session_id  679332 non-null  object        \n",
      " 3   client_id   679332 non-null  object        \n",
      " 4   price       679353 non-null  float64       \n",
      " 5   categ       679353 non-null  float64       \n",
      " 6   sex         679332 non-null  object        \n",
      " 7   birth       679332 non-null  float64       \n",
      " 8   age         679332 non-null  float64       \n",
      "dtypes: datetime64[ns](1), float64(4), object(4)\n",
      "memory usage: 51.8+ MB\n"
     ]
    }
   ],
   "source": [
    "# imputer les prix null avec le moyenne de prix de tous les livres\n",
    "df['price'] = df['price'].fillna(11.73)\n",
    "df.info()"
   ]
  },
  {
   "cell_type": "code",
   "execution_count": 32,
   "id": "70dbb423-2492-430c-aec6-94dec4470304",
   "metadata": {},
   "outputs": [
    {
     "data": {
      "text/html": [
       "<div>\n",
       "<style scoped>\n",
       "    .dataframe tbody tr th:only-of-type {\n",
       "        vertical-align: middle;\n",
       "    }\n",
       "\n",
       "    .dataframe tbody tr th {\n",
       "        vertical-align: top;\n",
       "    }\n",
       "\n",
       "    .dataframe thead th {\n",
       "        text-align: right;\n",
       "    }\n",
       "</style>\n",
       "<table border=\"1\" class=\"dataframe\">\n",
       "  <thead>\n",
       "    <tr style=\"text-align: right;\">\n",
       "      <th></th>\n",
       "      <th>id_prod</th>\n",
       "      <th>date</th>\n",
       "      <th>session_id</th>\n",
       "      <th>client_id</th>\n",
       "      <th>price</th>\n",
       "      <th>categ</th>\n",
       "      <th>sex</th>\n",
       "      <th>birth</th>\n",
       "      <th>age</th>\n",
       "    </tr>\n",
       "    <tr>\n",
       "      <th>index</th>\n",
       "      <th></th>\n",
       "      <th></th>\n",
       "      <th></th>\n",
       "      <th></th>\n",
       "      <th></th>\n",
       "      <th></th>\n",
       "      <th></th>\n",
       "      <th></th>\n",
       "      <th></th>\n",
       "    </tr>\n",
       "  </thead>\n",
       "  <tbody>\n",
       "    <tr>\n",
       "      <th>542560</th>\n",
       "      <td>0_2245</td>\n",
       "      <td>2022-09-23 07:22:38.636773</td>\n",
       "      <td>s_272266</td>\n",
       "      <td>c_4746</td>\n",
       "      <td>11.73</td>\n",
       "      <td>0.0</td>\n",
       "      <td>m</td>\n",
       "      <td>1940.0</td>\n",
       "      <td>82.0</td>\n",
       "    </tr>\n",
       "    <tr>\n",
       "      <th>542561</th>\n",
       "      <td>0_2245</td>\n",
       "      <td>2022-07-23 09:24:14.133889</td>\n",
       "      <td>s_242482</td>\n",
       "      <td>c_6713</td>\n",
       "      <td>11.73</td>\n",
       "      <td>0.0</td>\n",
       "      <td>f</td>\n",
       "      <td>1963.0</td>\n",
       "      <td>59.0</td>\n",
       "    </tr>\n",
       "    <tr>\n",
       "      <th>542562</th>\n",
       "      <td>0_2245</td>\n",
       "      <td>2022-12-03 03:26:35.696673</td>\n",
       "      <td>s_306338</td>\n",
       "      <td>c_5108</td>\n",
       "      <td>11.73</td>\n",
       "      <td>0.0</td>\n",
       "      <td>m</td>\n",
       "      <td>1978.0</td>\n",
       "      <td>44.0</td>\n",
       "    </tr>\n",
       "    <tr>\n",
       "      <th>542563</th>\n",
       "      <td>0_2245</td>\n",
       "      <td>2021-08-16 11:33:25.481411</td>\n",
       "      <td>s_76493</td>\n",
       "      <td>c_1391</td>\n",
       "      <td>11.73</td>\n",
       "      <td>0.0</td>\n",
       "      <td>m</td>\n",
       "      <td>1991.0</td>\n",
       "      <td>31.0</td>\n",
       "    </tr>\n",
       "    <tr>\n",
       "      <th>542564</th>\n",
       "      <td>0_2245</td>\n",
       "      <td>2022-07-16 05:53:01.627491</td>\n",
       "      <td>s_239078</td>\n",
       "      <td>c_7954</td>\n",
       "      <td>11.73</td>\n",
       "      <td>0.0</td>\n",
       "      <td>m</td>\n",
       "      <td>1973.0</td>\n",
       "      <td>49.0</td>\n",
       "    </tr>\n",
       "    <tr>\n",
       "      <th>...</th>\n",
       "      <td>...</td>\n",
       "      <td>...</td>\n",
       "      <td>...</td>\n",
       "      <td>...</td>\n",
       "      <td>...</td>\n",
       "      <td>...</td>\n",
       "      <td>...</td>\n",
       "      <td>...</td>\n",
       "      <td>...</td>\n",
       "    </tr>\n",
       "    <tr>\n",
       "      <th>542776</th>\n",
       "      <td>0_2245</td>\n",
       "      <td>2021-08-25 09:06:03.504061</td>\n",
       "      <td>s_80395</td>\n",
       "      <td>c_131</td>\n",
       "      <td>11.73</td>\n",
       "      <td>0.0</td>\n",
       "      <td>m</td>\n",
       "      <td>1981.0</td>\n",
       "      <td>41.0</td>\n",
       "    </tr>\n",
       "    <tr>\n",
       "      <th>542777</th>\n",
       "      <td>0_2245</td>\n",
       "      <td>2022-03-06 19:59:19.462288</td>\n",
       "      <td>s_175311</td>\n",
       "      <td>c_4167</td>\n",
       "      <td>11.73</td>\n",
       "      <td>0.0</td>\n",
       "      <td>f</td>\n",
       "      <td>1979.0</td>\n",
       "      <td>43.0</td>\n",
       "    </tr>\n",
       "    <tr>\n",
       "      <th>542778</th>\n",
       "      <td>0_2245</td>\n",
       "      <td>2022-05-16 11:35:20.319501</td>\n",
       "      <td>s_209381</td>\n",
       "      <td>c_4453</td>\n",
       "      <td>11.73</td>\n",
       "      <td>0.0</td>\n",
       "      <td>m</td>\n",
       "      <td>1981.0</td>\n",
       "      <td>41.0</td>\n",
       "    </tr>\n",
       "    <tr>\n",
       "      <th>542779</th>\n",
       "      <td>0_2245</td>\n",
       "      <td>2022-02-11 09:05:43.952857</td>\n",
       "      <td>s_163405</td>\n",
       "      <td>c_1098</td>\n",
       "      <td>11.73</td>\n",
       "      <td>0.0</td>\n",
       "      <td>m</td>\n",
       "      <td>1986.0</td>\n",
       "      <td>36.0</td>\n",
       "    </tr>\n",
       "    <tr>\n",
       "      <th>542780</th>\n",
       "      <td>0_2245</td>\n",
       "      <td>2021-12-14 22:34:54.589921</td>\n",
       "      <td>s_134446</td>\n",
       "      <td>c_4854</td>\n",
       "      <td>11.73</td>\n",
       "      <td>0.0</td>\n",
       "      <td>m</td>\n",
       "      <td>1968.0</td>\n",
       "      <td>54.0</td>\n",
       "    </tr>\n",
       "  </tbody>\n",
       "</table>\n",
       "<p>221 rows × 9 columns</p>\n",
       "</div>"
      ],
      "text/plain": [
       "       id_prod                       date session_id client_id  price  categ  \\\n",
       "index                                                                          \n",
       "542560  0_2245 2022-09-23 07:22:38.636773   s_272266    c_4746  11.73    0.0   \n",
       "542561  0_2245 2022-07-23 09:24:14.133889   s_242482    c_6713  11.73    0.0   \n",
       "542562  0_2245 2022-12-03 03:26:35.696673   s_306338    c_5108  11.73    0.0   \n",
       "542563  0_2245 2021-08-16 11:33:25.481411    s_76493    c_1391  11.73    0.0   \n",
       "542564  0_2245 2022-07-16 05:53:01.627491   s_239078    c_7954  11.73    0.0   \n",
       "...        ...                        ...        ...       ...    ...    ...   \n",
       "542776  0_2245 2021-08-25 09:06:03.504061    s_80395     c_131  11.73    0.0   \n",
       "542777  0_2245 2022-03-06 19:59:19.462288   s_175311    c_4167  11.73    0.0   \n",
       "542778  0_2245 2022-05-16 11:35:20.319501   s_209381    c_4453  11.73    0.0   \n",
       "542779  0_2245 2022-02-11 09:05:43.952857   s_163405    c_1098  11.73    0.0   \n",
       "542780  0_2245 2021-12-14 22:34:54.589921   s_134446    c_4854  11.73    0.0   \n",
       "\n",
       "       sex   birth   age  \n",
       "index                     \n",
       "542560   m  1940.0  82.0  \n",
       "542561   f  1963.0  59.0  \n",
       "542562   m  1978.0  44.0  \n",
       "542563   m  1991.0  31.0  \n",
       "542564   m  1973.0  49.0  \n",
       "...     ..     ...   ...  \n",
       "542776   m  1981.0  41.0  \n",
       "542777   f  1979.0  43.0  \n",
       "542778   m  1981.0  41.0  \n",
       "542779   m  1986.0  36.0  \n",
       "542780   m  1968.0  54.0  \n",
       "\n",
       "[221 rows x 9 columns]"
      ]
     },
     "execution_count": 32,
     "metadata": {},
     "output_type": "execute_result"
    }
   ],
   "source": [
    "# reverifier les transactions pour '0_2245'\n",
    "df.loc[df['id_prod']=='0_2245']"
   ]
  },
  {
   "cell_type": "markdown",
   "id": "fa5190b4-4d96-432a-8960-2aaacc69a905",
   "metadata": {},
   "source": [
    "## calculer le chiffre d'affaire (CA) de chaque transaction"
   ]
  },
  {
   "cell_type": "code",
   "execution_count": 33,
   "id": "a6cb274d-77af-4418-9358-519efe254603",
   "metadata": {},
   "outputs": [
    {
     "name": "stdout",
     "output_type": "stream",
     "text": [
      "<class 'pandas.core.frame.DataFrame'>\n",
      "Int64Index: 679353 entries, 0 to 679352\n",
      "Data columns (total 10 columns):\n",
      " #   Column      Non-Null Count   Dtype         \n",
      "---  ------      --------------   -----         \n",
      " 0   id_prod     679353 non-null  object        \n",
      " 1   date        679332 non-null  datetime64[ns]\n",
      " 2   session_id  679332 non-null  object        \n",
      " 3   client_id   679332 non-null  object        \n",
      " 4   price       679353 non-null  float64       \n",
      " 5   categ       679353 non-null  float64       \n",
      " 6   sex         679332 non-null  object        \n",
      " 7   birth       679332 non-null  float64       \n",
      " 8   age         679332 non-null  float64       \n",
      " 9   CA          679353 non-null  float64       \n",
      "dtypes: datetime64[ns](1), float64(5), object(4)\n",
      "memory usage: 57.0+ MB\n"
     ]
    }
   ],
   "source": [
    "df['CA'] = df.loc[df['session_id'].notnull(), 'price']\n",
    "df['CA'] = df['CA'].fillna(0)\n",
    "df.info()"
   ]
  },
  {
   "cell_type": "markdown",
   "id": "dc8a7d7a-4547-4d1e-8036-77983e52471b",
   "metadata": {
    "tags": []
   },
   "source": [
    "# l'exportation de données"
   ]
  },
  {
   "cell_type": "code",
   "execution_count": 34,
   "id": "39728637-7b32-41b4-8170-1e09956656ee",
   "metadata": {},
   "outputs": [
    {
     "data": {
      "text/html": [
       "<div>\n",
       "<style scoped>\n",
       "    .dataframe tbody tr th:only-of-type {\n",
       "        vertical-align: middle;\n",
       "    }\n",
       "\n",
       "    .dataframe tbody tr th {\n",
       "        vertical-align: top;\n",
       "    }\n",
       "\n",
       "    .dataframe thead th {\n",
       "        text-align: right;\n",
       "    }\n",
       "</style>\n",
       "<table border=\"1\" class=\"dataframe\">\n",
       "  <thead>\n",
       "    <tr style=\"text-align: right;\">\n",
       "      <th></th>\n",
       "      <th>id_prod</th>\n",
       "      <th>date</th>\n",
       "      <th>session_id</th>\n",
       "      <th>client_id</th>\n",
       "      <th>price</th>\n",
       "      <th>categ</th>\n",
       "      <th>sex</th>\n",
       "      <th>birth</th>\n",
       "      <th>age</th>\n",
       "      <th>CA</th>\n",
       "    </tr>\n",
       "    <tr>\n",
       "      <th>index</th>\n",
       "      <th></th>\n",
       "      <th></th>\n",
       "      <th></th>\n",
       "      <th></th>\n",
       "      <th></th>\n",
       "      <th></th>\n",
       "      <th></th>\n",
       "      <th></th>\n",
       "      <th></th>\n",
       "      <th></th>\n",
       "    </tr>\n",
       "  </thead>\n",
       "  <tbody>\n",
       "    <tr>\n",
       "      <th>0</th>\n",
       "      <td>0_1518</td>\n",
       "      <td>2022-05-20 13:21:29.043970</td>\n",
       "      <td>s_211425</td>\n",
       "      <td>c_103</td>\n",
       "      <td>4.18</td>\n",
       "      <td>0.0</td>\n",
       "      <td>f</td>\n",
       "      <td>1986.0</td>\n",
       "      <td>36.0</td>\n",
       "      <td>4.18</td>\n",
       "    </tr>\n",
       "    <tr>\n",
       "      <th>1</th>\n",
       "      <td>0_1518</td>\n",
       "      <td>2021-09-26 12:37:29.780414</td>\n",
       "      <td>s_95811</td>\n",
       "      <td>c_6197</td>\n",
       "      <td>4.18</td>\n",
       "      <td>0.0</td>\n",
       "      <td>m</td>\n",
       "      <td>1985.0</td>\n",
       "      <td>37.0</td>\n",
       "      <td>4.18</td>\n",
       "    </tr>\n",
       "    <tr>\n",
       "      <th>2</th>\n",
       "      <td>0_1518</td>\n",
       "      <td>2021-05-06 17:14:43.117440</td>\n",
       "      <td>s_30782</td>\n",
       "      <td>c_682</td>\n",
       "      <td>4.18</td>\n",
       "      <td>0.0</td>\n",
       "      <td>f</td>\n",
       "      <td>1974.0</td>\n",
       "      <td>48.0</td>\n",
       "      <td>4.18</td>\n",
       "    </tr>\n",
       "    <tr>\n",
       "      <th>3</th>\n",
       "      <td>0_1518</td>\n",
       "      <td>2022-03-16 18:57:10.420103</td>\n",
       "      <td>s_180057</td>\n",
       "      <td>c_5932</td>\n",
       "      <td>4.18</td>\n",
       "      <td>0.0</td>\n",
       "      <td>f</td>\n",
       "      <td>1962.0</td>\n",
       "      <td>60.0</td>\n",
       "      <td>4.18</td>\n",
       "    </tr>\n",
       "    <tr>\n",
       "      <th>4</th>\n",
       "      <td>0_1518</td>\n",
       "      <td>2022-11-12 18:58:10.574853</td>\n",
       "      <td>s_296584</td>\n",
       "      <td>c_7217</td>\n",
       "      <td>4.18</td>\n",
       "      <td>0.0</td>\n",
       "      <td>f</td>\n",
       "      <td>1976.0</td>\n",
       "      <td>46.0</td>\n",
       "      <td>4.18</td>\n",
       "    </tr>\n",
       "    <tr>\n",
       "      <th>...</th>\n",
       "      <td>...</td>\n",
       "      <td>...</td>\n",
       "      <td>...</td>\n",
       "      <td>...</td>\n",
       "      <td>...</td>\n",
       "      <td>...</td>\n",
       "      <td>...</td>\n",
       "      <td>...</td>\n",
       "      <td>...</td>\n",
       "      <td>...</td>\n",
       "    </tr>\n",
       "    <tr>\n",
       "      <th>679348</th>\n",
       "      <td>0_1624</td>\n",
       "      <td>NaT</td>\n",
       "      <td>NaN</td>\n",
       "      <td>NaN</td>\n",
       "      <td>24.50</td>\n",
       "      <td>0.0</td>\n",
       "      <td>NaN</td>\n",
       "      <td>NaN</td>\n",
       "      <td>NaN</td>\n",
       "      <td>0.00</td>\n",
       "    </tr>\n",
       "    <tr>\n",
       "      <th>679349</th>\n",
       "      <td>2_86</td>\n",
       "      <td>NaT</td>\n",
       "      <td>NaN</td>\n",
       "      <td>NaN</td>\n",
       "      <td>132.36</td>\n",
       "      <td>2.0</td>\n",
       "      <td>NaN</td>\n",
       "      <td>NaN</td>\n",
       "      <td>NaN</td>\n",
       "      <td>0.00</td>\n",
       "    </tr>\n",
       "    <tr>\n",
       "      <th>679350</th>\n",
       "      <td>0_299</td>\n",
       "      <td>NaT</td>\n",
       "      <td>NaN</td>\n",
       "      <td>NaN</td>\n",
       "      <td>22.99</td>\n",
       "      <td>0.0</td>\n",
       "      <td>NaN</td>\n",
       "      <td>NaN</td>\n",
       "      <td>NaN</td>\n",
       "      <td>0.00</td>\n",
       "    </tr>\n",
       "    <tr>\n",
       "      <th>679351</th>\n",
       "      <td>0_510</td>\n",
       "      <td>NaT</td>\n",
       "      <td>NaN</td>\n",
       "      <td>NaN</td>\n",
       "      <td>23.66</td>\n",
       "      <td>0.0</td>\n",
       "      <td>NaN</td>\n",
       "      <td>NaN</td>\n",
       "      <td>NaN</td>\n",
       "      <td>0.00</td>\n",
       "    </tr>\n",
       "    <tr>\n",
       "      <th>679352</th>\n",
       "      <td>0_2308</td>\n",
       "      <td>NaT</td>\n",
       "      <td>NaN</td>\n",
       "      <td>NaN</td>\n",
       "      <td>20.28</td>\n",
       "      <td>0.0</td>\n",
       "      <td>NaN</td>\n",
       "      <td>NaN</td>\n",
       "      <td>NaN</td>\n",
       "      <td>0.00</td>\n",
       "    </tr>\n",
       "  </tbody>\n",
       "</table>\n",
       "<p>679353 rows × 10 columns</p>\n",
       "</div>"
      ],
      "text/plain": [
       "       id_prod                       date session_id client_id   price  categ  \\\n",
       "index                                                                           \n",
       "0       0_1518 2022-05-20 13:21:29.043970   s_211425     c_103    4.18    0.0   \n",
       "1       0_1518 2021-09-26 12:37:29.780414    s_95811    c_6197    4.18    0.0   \n",
       "2       0_1518 2021-05-06 17:14:43.117440    s_30782     c_682    4.18    0.0   \n",
       "3       0_1518 2022-03-16 18:57:10.420103   s_180057    c_5932    4.18    0.0   \n",
       "4       0_1518 2022-11-12 18:58:10.574853   s_296584    c_7217    4.18    0.0   \n",
       "...        ...                        ...        ...       ...     ...    ...   \n",
       "679348  0_1624                        NaT        NaN       NaN   24.50    0.0   \n",
       "679349    2_86                        NaT        NaN       NaN  132.36    2.0   \n",
       "679350   0_299                        NaT        NaN       NaN   22.99    0.0   \n",
       "679351   0_510                        NaT        NaN       NaN   23.66    0.0   \n",
       "679352  0_2308                        NaT        NaN       NaN   20.28    0.0   \n",
       "\n",
       "        sex   birth   age    CA  \n",
       "index                            \n",
       "0         f  1986.0  36.0  4.18  \n",
       "1         m  1985.0  37.0  4.18  \n",
       "2         f  1974.0  48.0  4.18  \n",
       "3         f  1962.0  60.0  4.18  \n",
       "4         f  1976.0  46.0  4.18  \n",
       "...     ...     ...   ...   ...  \n",
       "679348  NaN     NaN   NaN  0.00  \n",
       "679349  NaN     NaN   NaN  0.00  \n",
       "679350  NaN     NaN   NaN  0.00  \n",
       "679351  NaN     NaN   NaN  0.00  \n",
       "679352  NaN     NaN   NaN  0.00  \n",
       "\n",
       "[679353 rows x 10 columns]"
      ]
     },
     "execution_count": 34,
     "metadata": {},
     "output_type": "execute_result"
    }
   ],
   "source": [
    "# verifier encore une fois le dateframe 'df'\n",
    "df"
   ]
  },
  {
   "cell_type": "code",
   "execution_count": 35,
   "id": "60b50675-58d5-4e89-b186-3615f0f2598c",
   "metadata": {},
   "outputs": [],
   "source": [
    "# exporter les données pour la partie d'analyse\n",
    "df.to_csv('df_library.csv')"
   ]
  },
  {
   "cell_type": "markdown",
   "id": "3d650c55-34a0-47e8-8d14-45572bb594a7",
   "metadata": {},
   "source": [
    "Les autres traitements:\n",
    "1. Les transactions manquants en 2021-10: \n",
    "sera traiter prochainement d'après les besoins des analyses suivantes\n",
    "2. Clients 18 ans:\n",
    "discussion dans prochaine partie\n",
    "3. Les formats de datetime:\n",
    "traiter dans la 2e partie après l'importation de donnés"
   ]
  }
 ],
 "metadata": {
  "kernelspec": {
   "display_name": "Python 3 (ipykernel)",
   "language": "python",
   "name": "python3"
  },
  "language_info": {
   "codemirror_mode": {
    "name": "ipython",
    "version": 3
   },
   "file_extension": ".py",
   "mimetype": "text/x-python",
   "name": "python",
   "nbconvert_exporter": "python",
   "pygments_lexer": "ipython3",
   "version": "3.9.7"
  },
  "toc": {
   "base_numbering": 1,
   "nav_menu": {},
   "number_sections": true,
   "sideBar": true,
   "skip_h1_title": false,
   "title_cell": "Table of Contents",
   "title_sidebar": "Contents",
   "toc_cell": true,
   "toc_position": {},
   "toc_section_display": true,
   "toc_window_display": true
  },
  "toc-autonumbering": true
 },
 "nbformat": 4,
 "nbformat_minor": 5
}
